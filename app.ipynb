{
 "cells": [
  {
   "cell_type": "code",
   "execution_count": 1,
   "metadata": {
    "collapsed": true,
    "ExecuteTime": {
     "end_time": "2023-06-04T09:36:34.586491Z",
     "start_time": "2023-06-04T09:36:34.265442Z"
    }
   },
   "outputs": [],
   "source": [
    "import os\n",
    "\n",
    "import openai\n",
    "from dotenv import load_dotenv, find_dotenv\n",
    "\n",
    "_ = load_dotenv(find_dotenv())\n",
    "\n",
    "openai.api_key = os.getenv('OPENAI_API_KEY')\n",
    "\n",
    "\n",
    "def get_completion(prompt, model=\"gpt-3.5-turbo\"):\n",
    "    messages = [{\"role\": \"user\", \"content\": prompt}]\n",
    "    response = openai.ChatCompletion.create(\n",
    "        model=model,\n",
    "        messages=messages,\n",
    "        temperature=0,  # this is the degree of randomness of the model's output\n",
    "    )\n",
    "    return response.choices[0].message[\"content\"]"
   ]
  },
  {
   "cell_type": "markdown",
   "source": [
    "# Describe states of current systems"
   ],
   "metadata": {
    "collapsed": false
   }
  },
  {
   "cell_type": "code",
   "execution_count": 3,
   "outputs": [
    {
     "name": "stdout",
     "output_type": "stream",
     "text": [
      "Unfortunately, as an AI language model, I cannot generate diagrams in Mermaid. However, I can provide you with the sequence diagrams for the interaction request of the system you described.\n",
      "\n",
      "Sequence Diagram for GET /public Endpoint:\n",
      "\n",
      "```\n",
      "title: GET /public Endpoint\n",
      "\n",
      "participant Client\n",
      "participant RestAPI\n",
      "participant PublicService\n",
      "\n",
      "Client->RestAPI: GET /public\n",
      "RestAPI->PublicService: Call PublicService\n",
      "PublicService-->RestAPI: Return Public Data\n",
      "RestAPI-->Client: Return Public Data\n",
      "```\n",
      "\n",
      "Sequence Diagram for GET /private Endpoint:\n",
      "\n",
      "```\n",
      "title: GET /private Endpoint\n",
      "\n",
      "participant Client\n",
      "participant RestAPI\n",
      "participant PrivateService\n",
      "\n",
      "Client->RestAPI: GET /private\n",
      "RestAPI->PrivateService: Call PrivateService\n",
      "PrivateService-->RestAPI: Return Private Data\n",
      "RestAPI-->Client: Return Private Data\n",
      "```\n",
      "\n",
      "Sequence Diagram for POST /private Endpoint:\n",
      "\n",
      "```\n",
      "title: POST /private Endpoint\n",
      "\n",
      "participant Client\n",
      "participant RestAPI\n",
      "participant PrivateService\n",
      "\n",
      "Client->RestAPI: POST /private\n",
      "RestAPI->PrivateService: Call PrivateService with Data\n",
      "PrivateService-->RestAPI: Process Data\n",
      "RestAPI-->Client: Return Success/Failure\n",
      "```\n"
     ]
    }
   ],
   "source": [
    "text_system = f\"\"\"\n",
    "having a simple restAPI written in Quarkus with two endpoints\n",
    " /public /private, both supporting get method and private as\n",
    " the only endpoint with a post support\n",
    "\"\"\"\n",
    "prompt = f\"\"\"\n",
    "Act as a Java senior software engineer, and please generate the Sequence diagrams for the interation request of this  the following system:\n",
    "\\\"\\\"\\\"{text_system}\\\"\\\"\\\"\n",
    "Provide the flow diagram in Mermaid.\n",
    "\"\"\"\n",
    "response = get_completion(prompt)\n",
    "print(response)"
   ],
   "metadata": {
    "collapsed": false,
    "ExecuteTime": {
     "end_time": "2023-06-04T09:37:26.942139Z",
     "start_time": "2023-06-04T09:37:07.352231Z"
    }
   }
  },
  {
   "cell_type": "code",
   "execution_count": 4,
   "outputs": [
    {
     "name": "stdout",
     "output_type": "stream",
     "text": [
      "```mermaid\n",
      "graph TD;\n",
      "A[User] --> B[REST API];\n",
      "B --> C[Public Endpoint];\n",
      "B --> D[Private Endpoint];\n",
      "D --> E[GET Method];\n",
      "D --> F[POST Method];\n",
      "```\n"
     ]
    }
   ],
   "source": [
    "text_system = f\"\"\"\n",
    "having a simple restAPI written in Quarkus with two endpoints\n",
    " /public /private, both supporting get method and private as\n",
    " the only endpoint with a post support\n",
    "\"\"\"\n",
    "prompt = f\"\"\"\n",
    "Act as a Java senior software engineer, and please generate a flow diagram of a basic user interaction with the following system:\n",
    "\\\"\\\"\\\"{text_system}\\\"\\\"\\\"\n",
    "Provide the flow diagram in mermaid.\n",
    "\"\"\"\n",
    "response = get_completion(prompt)\n",
    "print(response)"
   ],
   "metadata": {
    "collapsed": false,
    "ExecuteTime": {
     "end_time": "2023-06-04T09:38:58.646217Z",
     "start_time": "2023-06-04T09:38:53.105231Z"
    }
   }
  },
  {
   "cell_type": "markdown",
   "source": [
    "# Create a user stories for a scrum team"
   ],
   "metadata": {
    "collapsed": false
   }
  },
  {
   "cell_type": "code",
   "execution_count": 5,
   "outputs": [
    {
     "name": "stdout",
     "output_type": "stream",
     "text": [
      "{\n",
      "  \"title\": \"Implement OIDC/OAuth2 authentication module\",\n",
      "  \"description\": \"As a user, I want to be able to authenticate myself using OIDC/OAuth2 so that I can access the private endpoint.\",\n",
      "  \"estimation\": 16\n",
      "}\n",
      "\n",
      "{\n",
      "  \"title\": \"Configure Quarkus to use the selected OIDC/OAuth2 module\",\n",
      "  \"description\": \"As a developer, I want to configure Quarkus to use the selected OIDC/OAuth2 module so that users can authenticate themselves.\",\n",
      "  \"estimation\": 8\n",
      "}\n",
      "\n",
      "{\n",
      "  \"title\": \"Add authentication logic to the private endpoint\",\n",
      "  \"description\": \"As a developer, I want to add authentication logic to the private endpoint so that only authenticated users can access it.\",\n",
      "  \"estimation\": 8\n",
      "}\n",
      "\n",
      "{\n",
      "  \"title\": \"Add support for POST method to the private endpoint\",\n",
      "  \"description\": \"As a developer, I want to add support for POST method to the private endpoint so that authenticated users can create new resources.\",\n",
      "  \"estimation\": 8\n",
      "}\n"
     ]
    }
   ],
   "source": [
    "text_requirements = f\"\"\"\n",
    "having a simple restAPI written in Quarkus with two endpoints\n",
    " /public /private, both supporting get method and private as\n",
    " the only endpoint with a post support,the user stories required for\n",
    " add an auth module using OIDC/OAuth2, the selected tool/module\n",
    " to add has to be opensource and java compatible,\n",
    "\"\"\"\n",
    "prompt = f\"\"\"\n",
    "Act as a Java senior software engineer, and please create the scrum user stories required for the following features:\n",
    "\\\"\\\"\\\"{text_requirements}\\\"\\\"\\\"\n",
    "Provide them in strict JSON format with the following keys:\n",
    "title, description, estimation. for the estimation, please provide a number of\n",
    "hours for the task to be completed from the perspective of a medior developer.\n",
    "\"\"\"\n",
    "response = get_completion(prompt)\n",
    "print(response)"
   ],
   "metadata": {
    "collapsed": false,
    "ExecuteTime": {
     "end_time": "2023-06-04T09:39:25.488521Z",
     "start_time": "2023-06-04T09:39:07.821900Z"
    }
   }
  },
  {
   "cell_type": "markdown",
   "source": [
    "# Create a list of candidate tools that match a set of requirements"
   ],
   "metadata": {
    "collapsed": false
   }
  },
  {
   "cell_type": "code",
   "execution_count": 5,
   "outputs": [
    {
     "name": "stdout",
     "output_type": "stream",
     "text": [
      "[\n",
      "  {\n",
      "    \"tool\": \"Keycloak\",\n",
      "    \"description\": \"An open-source identity and access management solution that provides single sign-on capabilities and supports multiple protocols including OIDC and OAuth2.\",\n",
      "    \"pro\": \"Provides a comprehensive set of features for authentication and authorization, including user management, role-based access control, and social login. Has a large and active community with extensive documentation and support.\",\n",
      "    \"cons\": \"Can be complex to set up and configure. May require additional resources to run efficiently.\",\n",
      "    \"score\": 9\n",
      "  },\n",
      "  {\n",
      "    \"tool\": \"Spring Security\",\n",
      "    \"description\": \"A powerful and highly customizable security framework for Java applications that supports multiple authentication and authorization mechanisms, including OIDC and OAuth2.\",\n",
      "    \"pro\": \"Provides a wide range of features and options for securing applications, including support for multiple authentication providers, role-based access control, and CSRF protection. Has a large and active community with extensive documentation and support.\",\n",
      "    \"cons\": \"Can be complex to configure and customize. May require significant development effort to integrate with existing applications.\",\n",
      "    \"score\": 8\n",
      "  },\n",
      "  {\n",
      "    \"tool\": \"Apache Shiro\",\n",
      "    \"description\": \"A lightweight and flexible security framework for Java applications that supports multiple authentication and authorization mechanisms, including OIDC and OAuth2.\",\n",
      "    \"pro\": \"Provides a simple and intuitive API for securing applications, with support for multiple authentication providers, role-based access control, and session management. Has a small but active community with good documentation and support.\",\n",
      "    \"cons\": \"May not provide as many features or options as other security frameworks. May require additional development effort to integrate with existing applications.\",\n",
      "    \"score\": 7\n",
      "  }\n",
      "]\n"
     ]
    }
   ],
   "source": [
    "text_requirements = f\"\"\"\n",
    "having a simple restAPI written in Quarkus with two endpoints\n",
    " /public /private, both supporting get method and private as\n",
    " the only endpoint with a post support,the user stories required for\n",
    " add an auth module using OIDC/OAuth2, the selected tool/module\n",
    " to add has to be opensource and java compatible,\n",
    "\"\"\"\n",
    "prompt = f\"\"\"\n",
    "please give me a list of the opensource auth tools to add meet this criteria:\n",
    "\\\"\\\"\\\"{text_requirements}\\\"\\\"\\\"\n",
    "Provide them in strict JSON format with the following keys:\n",
    "tool, description, pro, cons, score. the score will be calculated based on\n",
    " compatibility with my rest API framework, ease of use, and community support.\n",
    "\"\"\"\n",
    "response = get_completion(prompt)\n",
    "print(response)"
   ],
   "metadata": {
    "collapsed": false,
    "ExecuteTime": {
     "end_time": "2023-05-22T11:44:52.866239Z",
     "start_time": "2023-05-22T11:43:58.366734Z"
    }
   }
  },
  {
   "cell_type": "markdown",
   "source": [
    "# After a user story is completed, update the architecture documentation related"
   ],
   "metadata": {
    "collapsed": false
   }
  },
  {
   "cell_type": "code",
   "execution_count": 17,
   "outputs": [
    {
     "name": "stdout",
     "output_type": "stream",
     "text": [
      "Unfortunately, as an AI language model, I cannot generate diagrams directly. However, I can provide you with the Mermaid code for the sequence diagram based on the system description you provided:\n",
      "\n",
      "```mermaid\n",
      "sequenceDiagram\n",
      "    participant User\n",
      "    participant RestAPI\n",
      "    participant AuthModule\n",
      "    participant Keycloak\n",
      "\n",
      "    User->>RestAPI: GET /public\n",
      "    RestAPI->>User: Return public data\n",
      "\n",
      "    User->>RestAPI: GET /private\n",
      "    RestAPI->>AuthModule: Verify user token\n",
      "    AuthModule->>Keycloak: Request user authentication\n",
      "    Keycloak-->>AuthModule: Return user token\n",
      "    AuthModule-->>RestAPI: User authenticated\n",
      "    RestAPI->>User: Return private data\n",
      "\n",
      "    User->>RestAPI: POST /private\n",
      "    RestAPI->>AuthModule: Verify user token\n",
      "    AuthModule->>Keycloak: Request user authentication\n",
      "    Keycloak-->>AuthModule: Return user token\n",
      "    AuthModule-->>RestAPI: User authenticated\n",
      "    RestAPI->>User: Register user in the system\n",
      "```\n",
      "\n",
      "This Mermaid code will generate a sequence diagram that shows the flow of interactions between the user, the RestAPI, the AuthModule, and Keycloak for the three possible interactions: GET /public, GET /private, and POST /private.\n"
     ]
    }
   ],
   "source": [
    "text_system = f\"\"\"\n",
    "having a simple restAPI written in Quarkus with two endpoints\n",
    " /public /private, both supporting get method and private as\n",
    " the only endpoint with a post support,there is an auth module\n",
    " using OIDC/OAuth2 in keycloak that is used to secure the private endpoint,\n",
    " the get endpoint just register the user in the system\n",
    "\"\"\"\n",
    "prompt = f\"\"\"\n",
    "please generate the Mermaid Sequence diagrams for the interation request of this  the following system:\n",
    "\\\"\\\"\\\"{text_system}\\\"\\\"\\\"\n",
    "Provide the flow diagram in Mermaid format.\n",
    "\"\"\"\n",
    "response = get_completion(prompt)\n",
    "print(response)"
   ],
   "metadata": {
    "collapsed": false,
    "ExecuteTime": {
     "end_time": "2023-05-22T12:14:17.537971Z",
     "start_time": "2023-05-22T12:13:50.614505Z"
    }
   }
  },
  {
   "cell_type": "code",
   "execution_count": 11,
   "outputs": [
    {
     "name": "stdout",
     "output_type": "stream",
     "text": [
      "```mermaid\n",
      "graph TD;\n",
      "A[User] --> B[REST API];\n",
      "B --> C[Public Endpoint];\n",
      "B --> D[Private Endpoint];\n",
      "D --> E[Auth Module];\n",
      "E --> F[Keycloak];\n",
      "C --> G[GET Method];\n",
      "D --> H[GET Method];\n",
      "D --> I[POST Method];\n",
      "H --> J[Register User];\n",
      "```\n"
     ]
    }
   ],
   "source": [
    "text_system = f\"\"\"\n",
    "having a simple restAPI written in Quarkus with two endpoints\n",
    " /public /private, both supporting get method and private as\n",
    " the only endpoint with a post support,there is an auth module\n",
    " using OIDC/OAuth2 in keycloak that is used to secure the private endpoint,\n",
    " the get endpoint just register the user in the system\n",
    "\"\"\"\n",
    "prompt = f\"\"\"\n",
    "please generate a flow diagram of a basic user interaction with the following system:\n",
    "\\\"\\\"\\\"{text_system}\\\"\\\"\\\"\n",
    "Provide the flow diagram in mermaid.\n",
    "\"\"\"\n",
    "response = get_completion(prompt)\n",
    "print(response)"
   ],
   "metadata": {
    "collapsed": false,
    "ExecuteTime": {
     "end_time": "2023-05-22T11:58:42.953310Z",
     "start_time": "2023-05-22T11:58:33.231927Z"
    }
   }
  },
  {
   "cell_type": "code",
   "execution_count": null,
   "outputs": [],
   "source": [],
   "metadata": {
    "collapsed": false
   }
  }
 ],
 "metadata": {
  "kernelspec": {
   "display_name": "Python 3",
   "language": "python",
   "name": "python3"
  },
  "language_info": {
   "codemirror_mode": {
    "name": "ipython",
    "version": 2
   },
   "file_extension": ".py",
   "mimetype": "text/x-python",
   "name": "python",
   "nbconvert_exporter": "python",
   "pygments_lexer": "ipython2",
   "version": "2.7.6"
  }
 },
 "nbformat": 4,
 "nbformat_minor": 0
}
