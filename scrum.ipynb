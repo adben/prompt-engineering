{
 "cells": [
  {
   "cell_type": "code",
   "execution_count": 13,
   "metadata": {
    "collapsed": true,
    "ExecuteTime": {
     "end_time": "2023-05-22T14:22:12.406168Z",
     "start_time": "2023-05-22T14:22:12.403444Z"
    }
   },
   "outputs": [],
   "source": [
    "import os\n",
    "\n",
    "import openai\n",
    "from dotenv import load_dotenv, find_dotenv\n",
    "\n",
    "_ = load_dotenv(find_dotenv())\n",
    "\n",
    "openai.api_key = os.getenv('OPENAI_API_KEY')\n",
    "\n",
    "\n",
    "def get_completion(prompt, model=\"gpt-3.5-turbo\"):\n",
    "    messages = [{\"role\": \"user\", \"content\": prompt}]\n",
    "    response = openai.ChatCompletion.create(\n",
    "        model=model,\n",
    "        messages=messages,\n",
    "        temperature=0,  # this is the degree of randomness of the model's output\n",
    "    )\n",
    "    return response.choices[0].message[\"content\"]"
   ]
  },
  {
   "cell_type": "markdown",
   "source": [
    "### Summarize a transcription, use different languages, formating the response"
   ],
   "metadata": {
    "collapsed": false
   }
  },
  {
   "cell_type": "code",
   "execution_count": 14,
   "outputs": [
    {
     "name": "stdout",
     "output_type": "stream",
     "text": [
      "| Naam | Samenvatting | Hindernis | Oplossing |\n",
      "|------|-------------|-----------|-----------|\n",
      "| **PIET** | Vraagt naar de voortgang van de unit tests voor de autorisatiemodule. | - | - |\n",
      "| **ADOLFO** | Heeft moeite met het opzetten van de unit tests vanwege problemen met de IDE en testcontainers. | Problemen met de IDE en testcontainers. | Ontvangt hulp van **DENNIS** die hem de juiste stappen zal sturen om de testcontainers goed te configureren. |\n",
      "| **DENNIS** | Heeft een vergelijkbaar probleem gehad en biedt aan om te helpen. Heeft ook gewerkt aan het toevoegen van de Keycloak-realm voor de Keycloak-service. | - | Stuurt **ADOLFO** de juiste stappen om de testcontainers goed te configureren en biedt aan om hem te helpen met het begrijpen van de OIDC-protocollen. |\n"
     ]
    }
   ],
   "source": [
    "text_transcription = f\"\"\"\n",
    "PIET\n",
    "Goedemorgen allemaal! Laten we beginnen met de standup. Hoe was jullie weekend?\n",
    "\n",
    "ADOLFO\n",
    "Yo, goedemorgen! Mijn weekend was top, man. Ik heb lekker gefeest, actie op de taxi!\n",
    "\n",
    "DENNIS\n",
    "Haha, klinkt goed, Adolfo! Ik had een rustig weekend, gewoon relaxen en wat tijd doorbrengen met familie. Hoe zit het met jou, Piet?\n",
    "\n",
    "PIET\n",
    "Ook redelijk rustig, Piet. Gewoon een beetje bijgekomen van de drukke week. Maar laten we ter zake komen. Adolfo, hoe gaat het met de unit tests voor de autorisatiemodule?\n",
    "\n",
    "ADOLFO\n",
    "Ja, daar heb ik nog wat hobbels, man. Ik probeer die unittests op te zetten, maar mijn IDE werkt niet mee. Ik zit een beetje vast, gas op de lollie!\n",
    "\n",
    "DENNIS\n",
    "Geen zorgen, Adolfo. Ik heb een vergelijkbaar probleem gehad en ik kan je wel helpen. Je moet ervoor zorgen dat de juiste dependencies zijn geïmporteerd en dat je de testcontainers goed configureert. Ik kan je de stappen doorsturen die ik heb gevolgd.\n",
    "\n",
    "ADOLFO\n",
    "Nice, Dennis! Dat zou geweldig zijn. Ik ben echt een beetje verdwaald in die testcontainers. Stuur me alsjeblieft de stappen door, dan kan ik het uitproberen.\n",
    "\n",
    "DENNIS\n",
    "Geen probleem, ik zal je zo een gedetailleerde uitleg sturen. En maak je geen zorgen, we gaan dit samen oplossen. We hebben allemaal die leercurve gehad. Oh ja, en ondertussen ben ik bezig geweest met het toevoegen van de Keycloak-realm voor de Keycloak-service die we aan dezelfde API willen toevoegen.\n",
    "\n",
    "ADOLFO\n",
    "Top, Dennis! Jij bent echt een pro in het integreren van die tools. Ik weet zeker dat ik veel van je kan leren. Trouwens, heb je enig idee hoe ik de OIDC-protocollen kan begrijpen? Daar worstel ik nogal mee.\n",
    "\n",
    "DENNIS\n",
    "Natuurlijk, Adolfo! OIDC kan in het begin verwarrend zijn, maar ik kan je de basisprincipes uitleggen en je enkele bronnen geven om te raadplegen. Het zal je helpen om de flow te begrijpen en de autorisatie correct in te stellen.\n",
    "\n",
    "PIET\n",
    "Goed bezig, jongens! Het is geweldig om te zien hoe jullie elkaar ondersteunen en van elkaar leren. Laten we ervoor zorgen dat we deze obstakels overwinnen en samen vooruitgang boeken.\n",
    "\n",
    "\"\"\"\n",
    "prompt = f\"\"\"\n",
    "please provide the summarization of the next scrum standup ceremony, please dont include information that is not work related, neither personal information, and just updates on the project\n",
    "\\\"\\\"\\\"{text_transcription}\\\"\\\"\\\"\n",
    "generate the summary as a MD formatted table with the following columns:\n",
    "naam, samenvatting, hindernis, oplossing\n",
    "please highlight the names of the team members in bold always, including the name of the person who gives help to others, etc\n",
    "\"\"\"\n",
    "response = get_completion(prompt)\n",
    "print(response)"
   ],
   "metadata": {
    "collapsed": false,
    "ExecuteTime": {
     "end_time": "2023-05-22T14:22:36.954265Z",
     "start_time": "2023-05-22T14:22:13.999756Z"
    }
   }
  },
  {
   "cell_type": "code",
   "execution_count": null,
   "outputs": [],
   "source": [],
   "metadata": {
    "collapsed": false
   }
  }
 ],
 "metadata": {
  "kernelspec": {
   "display_name": "Python 3",
   "language": "python",
   "name": "python3"
  },
  "language_info": {
   "codemirror_mode": {
    "name": "ipython",
    "version": 2
   },
   "file_extension": ".py",
   "mimetype": "text/x-python",
   "name": "python",
   "nbconvert_exporter": "python",
   "pygments_lexer": "ipython2",
   "version": "2.7.6"
  }
 },
 "nbformat": 4,
 "nbformat_minor": 0
}
