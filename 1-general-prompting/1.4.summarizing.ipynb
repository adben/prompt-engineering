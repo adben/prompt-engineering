{
 "cells": [
  {
   "cell_type": "code",
   "execution_count": null,
   "metadata": {
    "collapsed": true
   },
   "outputs": [],
   "source": [
    "import os\n",
    "\n",
    "import openai\n",
    "from dotenv import load_dotenv, find_dotenv\n",
    "\n",
    "_ = load_dotenv(find_dotenv())\n",
    "\n",
    "openai.api_key = os.getenv('OPENAI_API_KEY')\n",
    "\n",
    "def get_completion(prompt, model=\"gpt-3.5-turbo\"):\n",
    "    messages = [{\"role\": \"user\", \"content\": prompt}]\n",
    "    response = openai.ChatCompletion.create(\n",
    "        model=model,\n",
    "        messages=messages,\n",
    "        temperature=0.0,  # this is the degree of randomness of the model's output\n",
    "    )\n",
    "    return response.choices[0].message[\"content\"]"
   ]
  },
  {
   "cell_type": "code",
   "execution_count": null,
   "metadata": {
    "collapsed": false
   },
   "outputs": [],
   "source": [
    "text_transcription = f\"\"\"\n",
    "PIET\n",
    "Goedemorgen allemaal! Laten we beginnen met de standup. Hoe was jullie weekend?\n",
    "\n",
    "ADOLFO\n",
    "Yo, goedemorgen! Mijn weekend was top, man. Ik heb lekker gefeest, actie op de taxi!\n",
    "\n",
    "DENNIS\n",
    "Haha, klinkt goed, Adolfo! Ik had een rustig weekend, gewoon relaxen en wat tijd \n",
    "doorbrengen met familie. Hoe zit het met jou, Piet?\n",
    "\n",
    "PIET\n",
    "Ook redelijk rustig, Piet. Gewoon een beetje bijgekomen van de drukke week. Maar \n",
    "aten we ter zake komen. Adolfo, hoe gaat het met de unit tests voor de autorisatiemodule?\n",
    "\n",
    "ADOLFO\n",
    "Ja, daar heb ik nog wat hobbels, man. Ik probeer die unittests op te zetten, maar mijn\n",
    " IDE werkt niet mee. Ik zit een beetje vast, gas op de lollie!\n",
    "\n",
    "DENNIS\n",
    "Geen zorgen, Adolfo. Ik heb een vergelijkbaar probleem gehad en ik kan je wel helpen. \n",
    "Je moet ervoor zorgen dat de juiste dependencies zijn geïmporteerd en dat je de \n",
    "testcontainers goed configureert. Ik kan je de stappen doorsturen die ik heb gevolgd.\n",
    "\n",
    "ADOLFO\n",
    "Nice, Dennis! Dat zou geweldig zijn. Ik ben echt een beetje verdwaald in die \n",
    "estcontainers. Stuur me alsjeblieft de stappen door, dan kan ik het uitproberen.\n",
    "\n",
    "DENNIS\n",
    "Geen probleem, ik zal je zo een gedetailleerde uitleg sturen. En maak je geen zorgen, \n",
    "we gaan dit samen oplossen. We hebben allemaal die leercurve gehad. Oh ja, en ondertussen\n",
    " ben ik bezig geweest met het toevoegen van de Keycloak-realm voor de Keycloak-service die\n",
    "   we aan dezelfde API willen toevoegen.\n",
    "\n",
    "ADOLFO\n",
    "Top, Dennis! Jij bent echt een pro in het integreren van die tools. Ik weet zeker dat \n",
    "ik veel van je kan leren. Trouwens, heb je enig idee hoe ik de OIDC-protocollen kan \n",
    "begrijpen? Daar worstel ik nogal mee.\n",
    "\n",
    "DENNIS\n",
    "Natuurlijk, Adolfo! OIDC kan in het begin verwarrend zijn, maar ik kan je de \n",
    "basisprincipes uitleggen en je enkele bronnen geven om te raadplegen. Het zal je \n",
    "helpen om de flow te begrijpen en de autorisatie correct in te stellen.\n",
    "\n",
    "PIET\n",
    "Goed bezig, jongens! Het is geweldig om te zien hoe jullie elkaar ondersteunen en van \n",
    "elkaar leren. Laten we ervoor zorgen dat we deze obstakels overwinnen en samen vooruitgang boeken.\n",
    "\n",
    "\"\"\"\n",
    "prompt = f\"\"\"\n",
    "please provide the summarization of the next scrum standup ceremony, please\n",
    " dont include information that is not work related, neither personal information,\n",
    "   and just updates on the project\n",
    "\\\"\\\"\\\"{text_transcription}\\\"\\\"\\\"\n",
    "generate the summary as a MD formatted table with the following columns:\n",
    "naam, samenvatting, hindernis, oplossing\n",
    "please highlight the names of the team members in bold always, including the name \n",
    "of the person who gives help to others, etc\n",
    "\"\"\"\n",
    "response = get_completion(prompt)\n",
    "print(response)"
   ]
  },
  {
   "cell_type": "code",
   "execution_count": null,
   "metadata": {
    "collapsed": false
   },
   "outputs": [],
   "source": [
    "with open(\"1.4.result.md\",\"w\") as f:\n",
    "    f.write(\"# Summarizing a transcription\")\n",
    "    f.write(\"\")\n",
    "    f.write(prompt)\n",
    "    f.write(\"\\n\")\n",
    "    f.write(response)\n",
    "    f.close()"
   ]
  }
 ],
 "metadata": {
  "kernelspec": {
   "display_name": "Python 3",
   "language": "python",
   "name": "python3"
  },
  "language_info": {
   "codemirror_mode": {
    "name": "ipython",
    "version": 3
   },
   "file_extension": ".py",
   "mimetype": "text/x-python",
   "name": "python",
   "nbconvert_exporter": "python",
   "pygments_lexer": "ipython3",
   "version": "3.11.3"
  }
 },
 "nbformat": 4,
 "nbformat_minor": 0
}
