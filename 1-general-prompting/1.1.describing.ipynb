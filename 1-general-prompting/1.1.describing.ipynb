{
 "cells": [
  {
   "cell_type": "code",
   "execution_count": null,
   "metadata": {
    "ExecuteTime": {
     "end_time": "2023-07-05T08:55:11.982874367Z",
     "start_time": "2023-07-05T08:55:11.882406336Z"
    }
   },
   "outputs": [],
   "source": [
    "import os\n",
    "\n",
    "import openai\n",
    "from dotenv import load_dotenv, find_dotenv\n",
    "\n",
    "_ = load_dotenv(find_dotenv())\n",
    "\n",
    "openai.api_key = os.getenv('OPENAI_API_KEY')\n",
    "\n",
    "def get_completion(prompt, model=\"gpt-3.5-turbo\"):\n",
    "    messages = [{\"role\": \"user\", \"content\": prompt}]\n",
    "    response = openai.ChatCompletion.create(\n",
    "        model=model,\n",
    "        messages=messages,\n",
    "        temperature=0.0,  # this is the degree of randomness of the model's output\n",
    "    )\n",
    "    return response.choices[0].message[\"content\"]"
   ]
  },
  {
   "cell_type": "code",
   "execution_count": null,
   "metadata": {
    "ExecuteTime": {
     "end_time": "2023-07-05T08:55:16.112692188Z",
     "start_time": "2023-07-05T08:55:11.972044746Z"
    }
   },
   "outputs": [],
   "source": [
    "text_system = f\"\"\"\n",
    "having a simple restAPI written in Quarkus with two endpoints\n",
    " /public /private, both supporting get method and private as\n",
    " the only endpoint with a post support\n",
    "\"\"\"\n",
    "prompt = f\"\"\"\n",
    "Act as a Java senior software engineer, and please generate the \n",
    "Sequence diagrams for the interation request of this  the following system:\n",
    "\\\"\\\"\\\"{text_system}\\\"\\\"\\\"\n",
    "Provide the flow diagram in Mermaid for markdown, just the code of the diagram.\n",
    "\"\"\"\n",
    "response = get_completion(prompt)\n",
    "print(response)"
   ]
  },
  {
   "cell_type": "code",
   "execution_count": null,
   "metadata": {
    "ExecuteTime": {
     "end_time": "2023-07-05T08:55:16.121233996Z",
     "start_time": "2023-07-05T08:55:16.117267030Z"
    }
   },
   "outputs": [],
   "source": [
    "with open(\"1.1.result.md\",\"w\") as f:\n",
    "    f.write(\"# Describing states in current systems applying formatting\")\n",
    "    f.write(\"\")\n",
    "    f.write(prompt)\n",
    "    f.write(\"\\n\")\n",
    "    f.write(response)\n",
    "    f.close()"
   ]
  }
 ],
 "metadata": {
  "kernelspec": {
   "display_name": "Python 3 (ipykernel)",
   "language": "python",
   "name": "python3"
  },
  "language_info": {
   "codemirror_mode": {
    "name": "ipython",
    "version": 3
   },
   "file_extension": ".py",
   "mimetype": "text/x-python",
   "name": "python",
   "nbconvert_exporter": "python",
   "pygments_lexer": "ipython3",
   "version": "3.11.3"
  }
 },
 "nbformat": 4,
 "nbformat_minor": 1
}
