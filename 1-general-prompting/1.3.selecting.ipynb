{
 "cells": [
  {
   "cell_type": "code",
   "execution_count": 1,
   "metadata": {
    "collapsed": true,
    "ExecuteTime": {
     "end_time": "2023-07-03T18:54:43.269780072Z",
     "start_time": "2023-07-03T18:54:43.245257262Z"
    }
   },
   "outputs": [],
   "source": [
    "import os\n",
    "\n",
    "import openai\n",
    "from dotenv import load_dotenv, find_dotenv\n",
    "\n",
    "_ = load_dotenv(find_dotenv())\n",
    "\n",
    "openai.api_key = os.getenv('OPENAI_API_KEY')\n",
    "\n",
    "def get_completion(prompt, model=\"gpt-3.5-turbo\"):\n",
    "    messages = [{\"role\": \"user\", \"content\": prompt}]\n",
    "    response = openai.ChatCompletion.create(\n",
    "        model=model,\n",
    "        messages=messages,\n",
    "        temperature=1.0,  # this is the degree of randomness of the model's output\n",
    "    )\n",
    "    return response.choices[0].message[\"content\"]"
   ]
  },
  {
   "cell_type": "code",
   "execution_count": 2,
   "outputs": [
    {
     "name": "stdout",
     "output_type": "stream",
     "text": [
      "[\n",
      "  {\n",
      "    \"tool\": \"Keycloak\",\n",
      "    \"description\": \"An open-source identity and access management solution that supports OIDC and OAuth2. It provides a comprehensive set of features including user management, authentication, and authorization.\",\n",
      "    \"pro\": \"Seamless integration with Quarkus and Java. Strong community support. Provides a wide range of authentication and authorization features.\",\n",
      "    \"cons\": \"Can be complex to set up and configure.\",\n",
      "    \"score\": 9.0\n",
      "  },\n",
      "  {\n",
      "    \"tool\": \"Spring Security\",\n",
      "    \"description\": \"A powerful and widely used Java framework for securing applications. It supports both OIDC and OAuth2 protocols and provides extensive features for authentication and authorization.\",\n",
      "    \"pro\": \"Mature and well-documented framework. Extensive community support. Easy integration with Quarkus.\",\n",
      "    \"cons\": \"Requires moderate configuration. Might require additional dependencies.\",\n",
      "    \"score\": 8.5\n",
      "  },\n",
      "  {\n",
      "    \"tool\": \"Apache Shiro\",\n",
      "    \"description\": \"A flexible and lightweight security framework for Java applications. It supports OAuth2 and can be easily integrated with Quarkus. It provides features like authentication, authorization, and session management.\",\n",
      "    \"pro\": \"Lightweight and easy to use. Provides a simple integration with Quarkus. Decent community support.\",\n",
      "    \"cons\": \"Limited documentation compared to other frameworks.\",\n",
      "    \"score\": 7.5\n",
      "  },\n",
      "  {\n",
      "    \"tool\": \"Pac4j\",\n",
      "    \"description\": \"An easy-to-use and flexible security library for Java applications. It supports multiple authentication protocols including OIDC and OAuth2. It can be integrated with Quarkus through the Pac4j extension.\",\n",
      "    \"pro\": \"Flexible integration options. Good support for various authentication protocols. Active community.\",\n",
      "    \"cons\": \"Documentation can be improved. Requires additional setup for full functionality.\",\n",
      "    \"score\": 7.0\n",
      "  },\n",
      "  {\n",
      "    \"tool\": \"Gluu\",\n",
      "    \"description\": \"An open-source authentication and authorization solution based on open standards like OIDC and OAuth2. It offers a range of features including user authentication, LDAP integration, and multi-factor authentication.\",\n",
      "    \"pro\": \"Supports OIDC and OAuth2. Provides comprehensive features for authentication. Active community support.\",\n",
      "    \"cons\": \"Integration with Quarkus may require additional effort.\",\n",
      "    \"score\": 8.0\n",
      "  }\n",
      "]\n"
     ]
    }
   ],
   "source": [
    "text_requirements = f\"\"\"\n",
    "having a simple restAPI written in Quarkus with two endpoints\n",
    " /public /private, both supporting get method and private as\n",
    " the only endpoint with a post support,the user stories required for\n",
    " add an auth module using OIDC/OAuth2, the selected tool/module\n",
    " to add has to be opensource and java compatible,\n",
    "\"\"\"\n",
    "prompt = f\"\"\"\n",
    "please give me a list of the opensource auth tools to add meet this criteria:\n",
    "\\\"\\\"\\\"{text_requirements}\\\"\\\"\\\"\n",
    "Provide them in strict JSON format with the following keys:\n",
    "tool, description, pro, cons, score. the score will be calculated based on\n",
    " compatibility with my rest API framework, ease of use, and community support.\n",
    "\"\"\"\n",
    "response = get_completion(prompt)\n",
    "print(response)"
   ],
   "metadata": {
    "collapsed": false,
    "ExecuteTime": {
     "end_time": "2023-07-03T18:55:04.715603714Z",
     "start_time": "2023-07-03T18:54:43.271974516Z"
    }
   }
  },
  {
   "cell_type": "code",
   "execution_count": 3,
   "outputs": [
    {
     "name": "stdout",
     "output_type": "stream",
     "text": [
      "\n",
      "please give me a list of the opensource auth tools to add meet this criteria:\n",
      "\"\"\"\n",
      "having a simple restAPI written in Quarkus with two endpoints\n",
      " /public /private, both supporting get method and private as\n",
      " the only endpoint with a post support,the user stories required for\n",
      " add an auth module using OIDC/OAuth2, the selected tool/module\n",
      " to add has to be opensource and java compatible,\n",
      "\"\"\"\n",
      "Provide them in strict JSON format with the following keys:\n",
      "tool, description, pro, cons, score. the score will be calculated based on\n",
      " compatibility with my rest API framework, ease of use, and community support.\n",
      "\n"
     ]
    }
   ],
   "source": [
    "print(prompt)\n",
    "\n",
    "with open(\"1.3.result.json\",\"w\") as f:\n",
    "    f.write(response)\n",
    "    f.close()"
   ],
   "metadata": {
    "collapsed": false,
    "ExecuteTime": {
     "end_time": "2023-07-03T18:55:04.721646022Z",
     "start_time": "2023-07-03T18:55:04.718130215Z"
    }
   }
  }
 ],
 "metadata": {
  "kernelspec": {
   "display_name": "Python 3",
   "language": "python",
   "name": "python3"
  },
  "language_info": {
   "codemirror_mode": {
    "name": "ipython",
    "version": 2
   },
   "file_extension": ".py",
   "mimetype": "text/x-python",
   "name": "python",
   "nbconvert_exporter": "python",
   "pygments_lexer": "ipython2",
   "version": "2.7.6"
  }
 },
 "nbformat": 4,
 "nbformat_minor": 0
}
