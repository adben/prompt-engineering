{
 "cells": [
  {
   "cell_type": "code",
   "execution_count": null,
   "metadata": {
    "collapsed": true
   },
   "outputs": [],
   "source": [
    "import os\n",
    "\n",
    "import openai\n",
    "from dotenv import load_dotenv, find_dotenv\n",
    "\n",
    "_ = load_dotenv(find_dotenv())\n",
    "\n",
    "openai.api_key = os.getenv('OPENAI_API_KEY')\n",
    "\n",
    "def get_completion(prompt, model=\"gpt-3.5-turbo\"):\n",
    "    messages = [{\"role\": \"user\", \"content\": prompt}]\n",
    "    response = openai.ChatCompletion.create(\n",
    "        model=model,\n",
    "        messages=messages,\n",
    "        temperature=1.0,  # this is the degree of randomness of the model's output\n",
    "    )\n",
    "    return response.choices[0].message[\"content\"]"
   ]
  },
  {
   "cell_type": "code",
   "execution_count": null,
   "outputs": [],
   "source": [
    "text_requirements = f\"\"\"\n",
    "having a simple restAPI written in Quarkus with two endpoints\n",
    " /public /private, both supporting get method and private as\n",
    " the only endpoint with a post support,the user stories required for\n",
    " add an auth module using OIDC/OAuth2, the selected tool/module\n",
    " to add has to be opensource and java compatible,\n",
    "\"\"\"\n",
    "prompt = f\"\"\"\n",
    "please give me a list of the opensource auth tools to add meet this criteria:\n",
    "\\\"\\\"\\\"{text_requirements}\\\"\\\"\\\"\n",
    "Provide them in strict JSON format with the following keys:\n",
    "tool, description, pro, cons, score. the score will be calculated based on\n",
    " compatibility with my rest API framework, ease of use, and community support.\n",
    "\"\"\"\n",
    "response = get_completion(prompt)\n",
    "print(response)"
   ],
   "metadata": {
    "collapsed": false
   }
  },
  {
   "cell_type": "code",
   "execution_count": null,
   "outputs": [],
   "source": [
    "print(prompt)\n",
    "\n",
    "with open(\"1.3.result.json\",\"w\") as f:\n",
    "    f.write(response)\n",
    "    f.close()"
   ],
   "metadata": {
    "collapsed": false
   }
  }
 ],
 "metadata": {
  "kernelspec": {
   "display_name": "Python 3",
   "language": "python",
   "name": "python3"
  },
  "language_info": {
   "codemirror_mode": {
    "name": "ipython",
    "version": 2
   },
   "file_extension": ".py",
   "mimetype": "text/x-python",
   "name": "python",
   "nbconvert_exporter": "python",
   "pygments_lexer": "ipython2",
   "version": "2.7.6"
  }
 },
 "nbformat": 4,
 "nbformat_minor": 0
}
