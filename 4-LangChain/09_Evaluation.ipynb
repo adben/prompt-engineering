{
 "cells": [
  {
   "attachments": {},
   "cell_type": "markdown",
   "id": "52824b89-532a-4e54-87e9-1410813cd39e",
   "metadata": {},
   "source": [
    "# **Evaluation** in LangChain\n",
    "\n",
    "## Outline:\n",
    "\n",
    "* Example generation\n",
    "* Manual evaluation (and debuging)\n",
    "* LLM-assisted evaluation"
   ]
  },
  {
   "cell_type": "code",
   "execution_count": null,
   "outputs": [],
   "source": [
    "#!pip install --upgrade langchain"
   ],
   "metadata": {
    "collapsed": false
   }
  },
  {
   "cell_type": "code",
   "execution_count": null,
   "id": "b7ed03ed-1322-49e3-b2a2-33e94fb592ef",
   "metadata": {
    "height": 81,
    "tags": []
   },
   "outputs": [],
   "source": [
    "import os\n",
    "import openai\n",
    "\n",
    "\n",
    "from dotenv import load_dotenv, find_dotenv\n",
    "_ = load_dotenv(find_dotenv()) # read local .env file\n",
    "\n",
    "openai.api_key = os.environ.get(\"OPENAI_API_KEY\")"
   ]
  },
  {
   "attachments": {},
   "cell_type": "markdown",
   "id": "28008949",
   "metadata": {},
   "source": [
    "## Create our QandA application"
   ]
  },
  {
   "cell_type": "code",
   "execution_count": null,
   "id": "974acf8e-8f88-42de-88f8-40a82cb58e8b",
   "metadata": {
    "height": 98
   },
   "outputs": [],
   "source": [
    "from langchain.chains import RetrievalQA\n",
    "from langchain.chat_models import ChatOpenAI\n",
    "from langchain.document_loaders import CSVLoader\n",
    "from langchain.indexes import VectorstoreIndexCreator\n",
    "from langchain.vectorstores import DocArrayInMemorySearch"
   ]
  },
  {
   "cell_type": "code",
   "execution_count": null,
   "id": "9ec1106d",
   "metadata": {
    "height": 64
   },
   "outputs": [],
   "source": [
    "file = 'OutdoorClothingCatalog_1000.csv'\n",
    "loader = CSVLoader(file_path=file)\n",
    "data = loader.load()"
   ]
  },
  {
   "cell_type": "code",
   "execution_count": null,
   "id": "b31c218f",
   "metadata": {
    "height": 64
   },
   "outputs": [],
   "source": [
    "index = VectorstoreIndexCreator(\n",
    "    vectorstore_cls=DocArrayInMemorySearch\n",
    ").from_loaders([loader])"
   ]
  },
  {
   "cell_type": "code",
   "execution_count": null,
   "id": "a2006054",
   "metadata": {
    "height": 183
   },
   "outputs": [],
   "source": [
    "llm = ChatOpenAI(temperature = 0.0)\n",
    "qa = RetrievalQA.from_chain_type(\n",
    "    llm=llm, \n",
    "    chain_type=\"stuff\", \n",
    "    retriever=index.vectorstore.as_retriever(), \n",
    "    verbose=True,\n",
    "    chain_type_kwargs = {\n",
    "        \"document_separator\": \"<<<<>>>>>\"\n",
    "    }\n",
    ")"
   ]
  },
  {
   "attachments": {},
   "cell_type": "markdown",
   "id": "791ebd73",
   "metadata": {},
   "source": [
    "### Coming up with test datapoints"
   ]
  },
  {
   "cell_type": "code",
   "execution_count": null,
   "id": "fb04a0f9",
   "metadata": {
    "height": 30
   },
   "outputs": [],
   "source": [
    "data[10]"
   ]
  },
  {
   "cell_type": "code",
   "execution_count": null,
   "id": "fe4a88c2",
   "metadata": {
    "height": 30
   },
   "outputs": [],
   "source": [
    "data[11]"
   ]
  },
  {
   "attachments": {},
   "cell_type": "markdown",
   "id": "8d548aef",
   "metadata": {},
   "source": [
    "### Hard-coded examples"
   ]
  },
  {
   "cell_type": "code",
   "execution_count": null,
   "id": "c2d59bf2",
   "metadata": {
    "height": 217
   },
   "outputs": [],
   "source": [
    "examples = [\n",
    "    {\n",
    "        \"query\": \"Do the Cozy Comfort Pullover Set\\\n",
    "        have side pockets?\",\n",
    "        \"answer\": \"Yes\"\n",
    "    },\n",
    "    {\n",
    "        \"query\": \"What collection is the Ultra-Lofty \\\n",
    "        850 Stretch Down Hooded Jacket from?\",\n",
    "        \"answer\": \"The DownTek collection\"\n",
    "    }\n",
    "]"
   ]
  },
  {
   "attachments": {},
   "cell_type": "markdown",
   "id": "c7ce3e4f",
   "metadata": {},
   "source": [
    "### LLM-Generated examples"
   ]
  },
  {
   "cell_type": "code",
   "execution_count": 32,
   "id": "d44f8376",
   "metadata": {
    "height": 47,
    "ExecuteTime": {
     "end_time": "2023-06-27T20:30:59.203929Z",
     "start_time": "2023-06-27T20:30:59.199847Z"
    }
   },
   "outputs": [],
   "source": [
    "from langchain.evaluation.qa import QAGenerateChain\n"
   ]
  },
  {
   "cell_type": "code",
   "execution_count": 33,
   "id": "34e87816",
   "metadata": {
    "height": 30,
    "ExecuteTime": {
     "end_time": "2023-06-27T20:30:59.998671Z",
     "start_time": "2023-06-27T20:30:59.992609Z"
    }
   },
   "outputs": [],
   "source": [
    "example_gen_chain = QAGenerateChain.from_llm(ChatOpenAI())"
   ]
  },
  {
   "cell_type": "code",
   "execution_count": 34,
   "id": "62abae09",
   "metadata": {
    "height": 64,
    "ExecuteTime": {
     "end_time": "2023-06-27T20:31:21.898790Z",
     "start_time": "2023-06-27T20:31:00.568799Z"
    }
   },
   "outputs": [],
   "source": [
    "new_examples = example_gen_chain.apply_and_parse(\n",
    "    [{\"doc\": t} for t in data[:5]]\n",
    ")"
   ]
  },
  {
   "cell_type": "code",
   "execution_count": 35,
   "id": "97ab28b5",
   "metadata": {
    "height": 30,
    "ExecuteTime": {
     "end_time": "2023-06-27T20:31:26.911098Z",
     "start_time": "2023-06-27T20:31:26.907337Z"
    }
   },
   "outputs": [
    {
     "data": {
      "text/plain": "{'query': \"What is the weight of each pair of Women's Campside Oxfords?\",\n 'answer': \"The approximate weight of each pair of Women's Campside Oxfords is 1 lb.1 oz.\"}"
     },
     "execution_count": 35,
     "metadata": {},
     "output_type": "execute_result"
    }
   ],
   "source": [
    "new_examples[0]"
   ]
  },
  {
   "cell_type": "code",
   "execution_count": 36,
   "id": "0ebe4228",
   "metadata": {
    "height": 30,
    "ExecuteTime": {
     "end_time": "2023-06-27T20:31:32.103949Z",
     "start_time": "2023-06-27T20:31:32.099502Z"
    }
   },
   "outputs": [
    {
     "data": {
      "text/plain": "Document(page_content=\": 0\\nname: Women's Campside Oxfords\\ndescription: This ultracomfortable lace-to-toe Oxford boasts a super-soft canvas, thick cushioning, and quality construction for a broken-in feel from the first time you put them on. \\n\\nSize & Fit: Order regular shoe size. For half sizes not offered, order up to next whole size. \\n\\nSpecs: Approx. weight: 1 lb.1 oz. per pair. \\n\\nConstruction: Soft canvas material for a broken-in feel and look. Comfortable EVA innersole with Cleansport NXT® antimicrobial odor control. Vintage hunt, fish and camping motif on innersole. Moderate arch contour of innersole. EVA foam midsole for cushioning and support. Chain-tread-inspired molded rubber outsole with modified chain-tread pattern. Imported. \\n\\nQuestions? Please contact us for any inquiries.\", metadata={'source': 'OutdoorClothingCatalog_1000.csv', 'row': 0})"
     },
     "execution_count": 36,
     "metadata": {},
     "output_type": "execute_result"
    }
   ],
   "source": [
    "data[0]"
   ]
  },
  {
   "attachments": {},
   "cell_type": "markdown",
   "id": "faf25f2f",
   "metadata": {},
   "source": [
    "### Combine examples"
   ]
  },
  {
   "cell_type": "code",
   "execution_count": 37,
   "id": "ada2a3fc",
   "metadata": {
    "height": 30,
    "ExecuteTime": {
     "end_time": "2023-06-27T20:31:37.636241Z",
     "start_time": "2023-06-27T20:31:37.630311Z"
    }
   },
   "outputs": [],
   "source": [
    "examples += new_examples"
   ]
  },
  {
   "cell_type": "code",
   "execution_count": 38,
   "id": "9cdf5cf5",
   "metadata": {
    "height": 30,
    "ExecuteTime": {
     "end_time": "2023-06-27T20:31:43.400098Z",
     "start_time": "2023-06-27T20:31:38.706388Z"
    }
   },
   "outputs": [
    {
     "name": "stdout",
     "output_type": "stream",
     "text": [
      "\n",
      "\n",
      "\u001B[1m> Entering new  chain...\u001B[0m\n",
      "\n",
      "\u001B[1m> Finished chain.\u001B[0m\n"
     ]
    },
    {
     "data": {
      "text/plain": "'The Cozy Comfort Pullover Set, Stripe has side pockets on the pull-on pants.'"
     },
     "execution_count": 38,
     "metadata": {},
     "output_type": "execute_result"
    }
   ],
   "source": [
    "qa.run(examples[0][\"query\"])"
   ]
  },
  {
   "attachments": {},
   "cell_type": "markdown",
   "id": "63f3cb08",
   "metadata": {},
   "source": [
    "## Manual Evaluation"
   ]
  },
  {
   "cell_type": "code",
   "execution_count": 39,
   "id": "fcaf622e",
   "metadata": {
    "height": 47,
    "ExecuteTime": {
     "end_time": "2023-06-27T20:31:48.391774Z",
     "start_time": "2023-06-27T20:31:48.386563Z"
    }
   },
   "outputs": [],
   "source": [
    "import langchain\n",
    "langchain.debug = True"
   ]
  },
  {
   "cell_type": "code",
   "execution_count": 40,
   "id": "8a142638",
   "metadata": {
    "height": 30,
    "scrolled": false,
    "ExecuteTime": {
     "end_time": "2023-06-27T20:31:52.516386Z",
     "start_time": "2023-06-27T20:31:50.389271Z"
    }
   },
   "outputs": [
    {
     "name": "stdout",
     "output_type": "stream",
     "text": [
      "\u001B[32;1m\u001B[1;3m[chain/start]\u001B[0m \u001B[1m[1:RunTypeEnum.chain:RetrievalQA] Entering Chain run with input:\n",
      "\u001B[0m{\n",
      "  \"query\": \"Do the Cozy Comfort Pullover Set        have side pockets?\"\n",
      "}\n",
      "\u001B[32;1m\u001B[1;3m[chain/start]\u001B[0m \u001B[1m[1:RunTypeEnum.chain:RetrievalQA > 2:RunTypeEnum.chain:StuffDocumentsChain] Entering Chain run with input:\n",
      "\u001B[0m[inputs]\n",
      "\u001B[32;1m\u001B[1;3m[chain/start]\u001B[0m \u001B[1m[1:RunTypeEnum.chain:RetrievalQA > 2:RunTypeEnum.chain:StuffDocumentsChain > 3:RunTypeEnum.chain:LLMChain] Entering Chain run with input:\n",
      "\u001B[0m{\n",
      "  \"question\": \"Do the Cozy Comfort Pullover Set        have side pockets?\",\n",
      "  \"context\": \": 10\\nname: Cozy Comfort Pullover Set, Stripe\\ndescription: Perfect for lounging, this striped knit set lives up to its name. We used ultrasoft fabric and an easy design that's as comfortable at bedtime as it is when we have to make a quick run out.\\n\\nSize & Fit\\n- Pants are Favorite Fit: Sits lower on the waist.\\n- Relaxed Fit: Our most generous fit sits farthest from the body.\\n\\nFabric & Care\\n- In the softest blend of 63% polyester, 35% rayon and 2% spandex.\\n\\nAdditional Features\\n- Relaxed fit top with raglan sleeves and rounded hem.\\n- Pull-on pants have a wide elastic waistband and drawstring, side pockets and a modern slim leg.\\n\\nImported.<<<<>>>>>: 73\\nname: Cozy Cuddles Knit Pullover Set\\ndescription: Perfect for lounging, this knit set lives up to its name. We used ultrasoft fabric and an easy design that's as comfortable at bedtime as it is when we have to make a quick run out. \\n\\nSize & Fit \\nPants are Favorite Fit: Sits lower on the waist. \\nRelaxed Fit: Our most generous fit sits farthest from the body. \\n\\nFabric & Care \\nIn the softest blend of 63% polyester, 35% rayon and 2% spandex.\\n\\nAdditional Features \\nRelaxed fit top with raglan sleeves and rounded hem. \\nPull-on pants have a wide elastic waistband and drawstring, side pockets and a modern slim leg. \\nImported.<<<<>>>>>: 632\\nname: Cozy Comfort Fleece Pullover\\ndescription: The ultimate sweater fleece – made from superior fabric and offered at an unbeatable price. \\n\\nSize & Fit\\nSlightly Fitted: Softly shapes the body. Falls at hip. \\n\\nWhy We Love It\\nOur customers (and employees) love the rugged construction and heritage-inspired styling of our popular Sweater Fleece Pullover and wear it for absolutely everything. From high-intensity activities to everyday tasks, you'll find yourself reaching for it every time.\\n\\nFabric & Care\\nRugged sweater-knit exterior and soft brushed interior for exceptional warmth and comfort. Made from soft, 100% polyester. Machine wash and dry.\\n\\nAdditional Features\\nFeatures our classic Mount Katahdin logo. Snap placket. Front princess seams create a feminine shape. Kangaroo handwarmer pockets. Cuffs and hem reinforced with jersey binding. Imported.\\n\\n – Official Supplier to the U.S. Ski Team\\nTHEIR WILL TO WIN, WOVEN RIGHT IN. LEARN MORE<<<<>>>>>: 151\\nname: Cozy Quilted Sweatshirt\\ndescription: Our sweatshirt is an instant classic with its great quilted texture and versatile weight that easily transitions between seasons. With a traditional fit that is relaxed through the chest, sleeve, and waist, this pullover is lightweight enough to be worn most months of the year. The cotton blend fabric is super soft and comfortable, making it the perfect casual layer. To make dressing easy, this sweatshirt also features a snap placket and a heritage-inspired Mt. Katahdin logo patch. For care, machine wash and dry. Imported.\"\n",
      "}\n",
      "\u001B[32;1m\u001B[1;3m[llm/start]\u001B[0m \u001B[1m[1:RunTypeEnum.chain:RetrievalQA > 2:RunTypeEnum.chain:StuffDocumentsChain > 3:RunTypeEnum.chain:LLMChain > 4:RunTypeEnum.llm:ChatOpenAI] Entering LLM run with input:\n",
      "\u001B[0m{\n",
      "  \"prompts\": [\n",
      "    \"System: Use the following pieces of context to answer the users question. \\nIf you don't know the answer, just say that you don't know, don't try to make up an answer.\\n----------------\\n: 10\\nname: Cozy Comfort Pullover Set, Stripe\\ndescription: Perfect for lounging, this striped knit set lives up to its name. We used ultrasoft fabric and an easy design that's as comfortable at bedtime as it is when we have to make a quick run out.\\n\\nSize & Fit\\n- Pants are Favorite Fit: Sits lower on the waist.\\n- Relaxed Fit: Our most generous fit sits farthest from the body.\\n\\nFabric & Care\\n- In the softest blend of 63% polyester, 35% rayon and 2% spandex.\\n\\nAdditional Features\\n- Relaxed fit top with raglan sleeves and rounded hem.\\n- Pull-on pants have a wide elastic waistband and drawstring, side pockets and a modern slim leg.\\n\\nImported.<<<<>>>>>: 73\\nname: Cozy Cuddles Knit Pullover Set\\ndescription: Perfect for lounging, this knit set lives up to its name. We used ultrasoft fabric and an easy design that's as comfortable at bedtime as it is when we have to make a quick run out. \\n\\nSize & Fit \\nPants are Favorite Fit: Sits lower on the waist. \\nRelaxed Fit: Our most generous fit sits farthest from the body. \\n\\nFabric & Care \\nIn the softest blend of 63% polyester, 35% rayon and 2% spandex.\\n\\nAdditional Features \\nRelaxed fit top with raglan sleeves and rounded hem. \\nPull-on pants have a wide elastic waistband and drawstring, side pockets and a modern slim leg. \\nImported.<<<<>>>>>: 632\\nname: Cozy Comfort Fleece Pullover\\ndescription: The ultimate sweater fleece – made from superior fabric and offered at an unbeatable price. \\n\\nSize & Fit\\nSlightly Fitted: Softly shapes the body. Falls at hip. \\n\\nWhy We Love It\\nOur customers (and employees) love the rugged construction and heritage-inspired styling of our popular Sweater Fleece Pullover and wear it for absolutely everything. From high-intensity activities to everyday tasks, you'll find yourself reaching for it every time.\\n\\nFabric & Care\\nRugged sweater-knit exterior and soft brushed interior for exceptional warmth and comfort. Made from soft, 100% polyester. Machine wash and dry.\\n\\nAdditional Features\\nFeatures our classic Mount Katahdin logo. Snap placket. Front princess seams create a feminine shape. Kangaroo handwarmer pockets. Cuffs and hem reinforced with jersey binding. Imported.\\n\\n – Official Supplier to the U.S. Ski Team\\nTHEIR WILL TO WIN, WOVEN RIGHT IN. LEARN MORE<<<<>>>>>: 151\\nname: Cozy Quilted Sweatshirt\\ndescription: Our sweatshirt is an instant classic with its great quilted texture and versatile weight that easily transitions between seasons. With a traditional fit that is relaxed through the chest, sleeve, and waist, this pullover is lightweight enough to be worn most months of the year. The cotton blend fabric is super soft and comfortable, making it the perfect casual layer. To make dressing easy, this sweatshirt also features a snap placket and a heritage-inspired Mt. Katahdin logo patch. For care, machine wash and dry. Imported.\\nHuman: Do the Cozy Comfort Pullover Set        have side pockets?\"\n",
      "  ]\n",
      "}\n",
      "\u001B[36;1m\u001B[1;3m[llm/end]\u001B[0m \u001B[1m[1:RunTypeEnum.chain:RetrievalQA > 2:RunTypeEnum.chain:StuffDocumentsChain > 3:RunTypeEnum.chain:LLMChain > 4:RunTypeEnum.llm:ChatOpenAI] [1.63s] Exiting LLM run with output:\n",
      "\u001B[0m{\n",
      "  \"generations\": [\n",
      "    [\n",
      "      {\n",
      "        \"text\": \"The Cozy Comfort Pullover Set, Stripe has side pockets on the pull-on pants.\",\n",
      "        \"generation_info\": null,\n",
      "        \"message\": {\n",
      "          \"content\": \"The Cozy Comfort Pullover Set, Stripe has side pockets on the pull-on pants.\",\n",
      "          \"additional_kwargs\": {},\n",
      "          \"example\": false\n",
      "        }\n",
      "      }\n",
      "    ]\n",
      "  ],\n",
      "  \"llm_output\": {\n",
      "    \"token_usage\": {\n",
      "      \"prompt_tokens\": 734,\n",
      "      \"completion_tokens\": 18,\n",
      "      \"total_tokens\": 752\n",
      "    },\n",
      "    \"model_name\": \"gpt-3.5-turbo\"\n",
      "  },\n",
      "  \"run\": null\n",
      "}\n",
      "\u001B[36;1m\u001B[1;3m[chain/end]\u001B[0m \u001B[1m[1:RunTypeEnum.chain:RetrievalQA > 2:RunTypeEnum.chain:StuffDocumentsChain > 3:RunTypeEnum.chain:LLMChain] [1.63s] Exiting Chain run with output:\n",
      "\u001B[0m{\n",
      "  \"text\": \"The Cozy Comfort Pullover Set, Stripe has side pockets on the pull-on pants.\"\n",
      "}\n",
      "\u001B[36;1m\u001B[1;3m[chain/end]\u001B[0m \u001B[1m[1:RunTypeEnum.chain:RetrievalQA > 2:RunTypeEnum.chain:StuffDocumentsChain] [1.64s] Exiting Chain run with output:\n",
      "\u001B[0m{\n",
      "  \"output_text\": \"The Cozy Comfort Pullover Set, Stripe has side pockets on the pull-on pants.\"\n",
      "}\n",
      "\u001B[36;1m\u001B[1;3m[chain/end]\u001B[0m \u001B[1m[1:RunTypeEnum.chain:RetrievalQA] [2.12s] Exiting Chain run with output:\n",
      "\u001B[0m{\n",
      "  \"result\": \"The Cozy Comfort Pullover Set, Stripe has side pockets on the pull-on pants.\"\n",
      "}\n"
     ]
    },
    {
     "data": {
      "text/plain": "'The Cozy Comfort Pullover Set, Stripe has side pockets on the pull-on pants.'"
     },
     "execution_count": 40,
     "metadata": {},
     "output_type": "execute_result"
    }
   ],
   "source": [
    "qa.run(examples[0][\"query\"])"
   ]
  },
  {
   "cell_type": "code",
   "execution_count": 42,
   "id": "b3d6bef0",
   "metadata": {
    "height": 47,
    "ExecuteTime": {
     "end_time": "2023-06-27T20:33:16.846975Z",
     "start_time": "2023-06-27T20:33:16.840964Z"
    }
   },
   "outputs": [],
   "source": [
    "# Turn off the debug mode\n",
    "langchain.debug = False"
   ]
  },
  {
   "attachments": {},
   "cell_type": "markdown",
   "id": "d5bdbdce",
   "metadata": {},
   "source": [
    "## LLM assisted evaluation"
   ]
  },
  {
   "cell_type": "code",
   "execution_count": 41,
   "id": "a4dca05a",
   "metadata": {
    "height": 30,
    "ExecuteTime": {
     "end_time": "2023-06-27T20:32:45.364229Z",
     "start_time": "2023-06-27T20:32:21.192488Z"
    }
   },
   "outputs": [
    {
     "name": "stdout",
     "output_type": "stream",
     "text": [
      "\u001B[32;1m\u001B[1;3m[chain/start]\u001B[0m \u001B[1m[1:RunTypeEnum.chain:RetrievalQA] Entering Chain run with input:\n",
      "\u001B[0m{\n",
      "  \"query\": \"Do the Cozy Comfort Pullover Set        have side pockets?\",\n",
      "  \"answer\": \"Yes\"\n",
      "}\n",
      "\u001B[32;1m\u001B[1;3m[chain/start]\u001B[0m \u001B[1m[1:RunTypeEnum.chain:RetrievalQA > 2:RunTypeEnum.chain:StuffDocumentsChain] Entering Chain run with input:\n",
      "\u001B[0m[inputs]\n",
      "\u001B[32;1m\u001B[1;3m[chain/start]\u001B[0m \u001B[1m[1:RunTypeEnum.chain:RetrievalQA > 2:RunTypeEnum.chain:StuffDocumentsChain > 3:RunTypeEnum.chain:LLMChain] Entering Chain run with input:\n",
      "\u001B[0m{\n",
      "  \"question\": \"Do the Cozy Comfort Pullover Set        have side pockets?\",\n",
      "  \"context\": \": 10\\nname: Cozy Comfort Pullover Set, Stripe\\ndescription: Perfect for lounging, this striped knit set lives up to its name. We used ultrasoft fabric and an easy design that's as comfortable at bedtime as it is when we have to make a quick run out.\\n\\nSize & Fit\\n- Pants are Favorite Fit: Sits lower on the waist.\\n- Relaxed Fit: Our most generous fit sits farthest from the body.\\n\\nFabric & Care\\n- In the softest blend of 63% polyester, 35% rayon and 2% spandex.\\n\\nAdditional Features\\n- Relaxed fit top with raglan sleeves and rounded hem.\\n- Pull-on pants have a wide elastic waistband and drawstring, side pockets and a modern slim leg.\\n\\nImported.<<<<>>>>>: 73\\nname: Cozy Cuddles Knit Pullover Set\\ndescription: Perfect for lounging, this knit set lives up to its name. We used ultrasoft fabric and an easy design that's as comfortable at bedtime as it is when we have to make a quick run out. \\n\\nSize & Fit \\nPants are Favorite Fit: Sits lower on the waist. \\nRelaxed Fit: Our most generous fit sits farthest from the body. \\n\\nFabric & Care \\nIn the softest blend of 63% polyester, 35% rayon and 2% spandex.\\n\\nAdditional Features \\nRelaxed fit top with raglan sleeves and rounded hem. \\nPull-on pants have a wide elastic waistband and drawstring, side pockets and a modern slim leg. \\nImported.<<<<>>>>>: 632\\nname: Cozy Comfort Fleece Pullover\\ndescription: The ultimate sweater fleece – made from superior fabric and offered at an unbeatable price. \\n\\nSize & Fit\\nSlightly Fitted: Softly shapes the body. Falls at hip. \\n\\nWhy We Love It\\nOur customers (and employees) love the rugged construction and heritage-inspired styling of our popular Sweater Fleece Pullover and wear it for absolutely everything. From high-intensity activities to everyday tasks, you'll find yourself reaching for it every time.\\n\\nFabric & Care\\nRugged sweater-knit exterior and soft brushed interior for exceptional warmth and comfort. Made from soft, 100% polyester. Machine wash and dry.\\n\\nAdditional Features\\nFeatures our classic Mount Katahdin logo. Snap placket. Front princess seams create a feminine shape. Kangaroo handwarmer pockets. Cuffs and hem reinforced with jersey binding. Imported.\\n\\n – Official Supplier to the U.S. Ski Team\\nTHEIR WILL TO WIN, WOVEN RIGHT IN. LEARN MORE<<<<>>>>>: 151\\nname: Cozy Quilted Sweatshirt\\ndescription: Our sweatshirt is an instant classic with its great quilted texture and versatile weight that easily transitions between seasons. With a traditional fit that is relaxed through the chest, sleeve, and waist, this pullover is lightweight enough to be worn most months of the year. The cotton blend fabric is super soft and comfortable, making it the perfect casual layer. To make dressing easy, this sweatshirt also features a snap placket and a heritage-inspired Mt. Katahdin logo patch. For care, machine wash and dry. Imported.\"\n",
      "}\n",
      "\u001B[32;1m\u001B[1;3m[llm/start]\u001B[0m \u001B[1m[1:RunTypeEnum.chain:RetrievalQA > 2:RunTypeEnum.chain:StuffDocumentsChain > 3:RunTypeEnum.chain:LLMChain > 4:RunTypeEnum.llm:ChatOpenAI] Entering LLM run with input:\n",
      "\u001B[0m{\n",
      "  \"prompts\": [\n",
      "    \"System: Use the following pieces of context to answer the users question. \\nIf you don't know the answer, just say that you don't know, don't try to make up an answer.\\n----------------\\n: 10\\nname: Cozy Comfort Pullover Set, Stripe\\ndescription: Perfect for lounging, this striped knit set lives up to its name. We used ultrasoft fabric and an easy design that's as comfortable at bedtime as it is when we have to make a quick run out.\\n\\nSize & Fit\\n- Pants are Favorite Fit: Sits lower on the waist.\\n- Relaxed Fit: Our most generous fit sits farthest from the body.\\n\\nFabric & Care\\n- In the softest blend of 63% polyester, 35% rayon and 2% spandex.\\n\\nAdditional Features\\n- Relaxed fit top with raglan sleeves and rounded hem.\\n- Pull-on pants have a wide elastic waistband and drawstring, side pockets and a modern slim leg.\\n\\nImported.<<<<>>>>>: 73\\nname: Cozy Cuddles Knit Pullover Set\\ndescription: Perfect for lounging, this knit set lives up to its name. We used ultrasoft fabric and an easy design that's as comfortable at bedtime as it is when we have to make a quick run out. \\n\\nSize & Fit \\nPants are Favorite Fit: Sits lower on the waist. \\nRelaxed Fit: Our most generous fit sits farthest from the body. \\n\\nFabric & Care \\nIn the softest blend of 63% polyester, 35% rayon and 2% spandex.\\n\\nAdditional Features \\nRelaxed fit top with raglan sleeves and rounded hem. \\nPull-on pants have a wide elastic waistband and drawstring, side pockets and a modern slim leg. \\nImported.<<<<>>>>>: 632\\nname: Cozy Comfort Fleece Pullover\\ndescription: The ultimate sweater fleece – made from superior fabric and offered at an unbeatable price. \\n\\nSize & Fit\\nSlightly Fitted: Softly shapes the body. Falls at hip. \\n\\nWhy We Love It\\nOur customers (and employees) love the rugged construction and heritage-inspired styling of our popular Sweater Fleece Pullover and wear it for absolutely everything. From high-intensity activities to everyday tasks, you'll find yourself reaching for it every time.\\n\\nFabric & Care\\nRugged sweater-knit exterior and soft brushed interior for exceptional warmth and comfort. Made from soft, 100% polyester. Machine wash and dry.\\n\\nAdditional Features\\nFeatures our classic Mount Katahdin logo. Snap placket. Front princess seams create a feminine shape. Kangaroo handwarmer pockets. Cuffs and hem reinforced with jersey binding. Imported.\\n\\n – Official Supplier to the U.S. Ski Team\\nTHEIR WILL TO WIN, WOVEN RIGHT IN. LEARN MORE<<<<>>>>>: 151\\nname: Cozy Quilted Sweatshirt\\ndescription: Our sweatshirt is an instant classic with its great quilted texture and versatile weight that easily transitions between seasons. With a traditional fit that is relaxed through the chest, sleeve, and waist, this pullover is lightweight enough to be worn most months of the year. The cotton blend fabric is super soft and comfortable, making it the perfect casual layer. To make dressing easy, this sweatshirt also features a snap placket and a heritage-inspired Mt. Katahdin logo patch. For care, machine wash and dry. Imported.\\nHuman: Do the Cozy Comfort Pullover Set        have side pockets?\"\n",
      "  ]\n",
      "}\n",
      "\u001B[36;1m\u001B[1;3m[llm/end]\u001B[0m \u001B[1m[1:RunTypeEnum.chain:RetrievalQA > 2:RunTypeEnum.chain:StuffDocumentsChain > 3:RunTypeEnum.chain:LLMChain > 4:RunTypeEnum.llm:ChatOpenAI] [1.40s] Exiting LLM run with output:\n",
      "\u001B[0m{\n",
      "  \"generations\": [\n",
      "    [\n",
      "      {\n",
      "        \"text\": \"The Cozy Comfort Pullover Set, Stripe has side pockets on the pull-on pants.\",\n",
      "        \"generation_info\": null,\n",
      "        \"message\": {\n",
      "          \"content\": \"The Cozy Comfort Pullover Set, Stripe has side pockets on the pull-on pants.\",\n",
      "          \"additional_kwargs\": {},\n",
      "          \"example\": false\n",
      "        }\n",
      "      }\n",
      "    ]\n",
      "  ],\n",
      "  \"llm_output\": {\n",
      "    \"token_usage\": {\n",
      "      \"prompt_tokens\": 734,\n",
      "      \"completion_tokens\": 18,\n",
      "      \"total_tokens\": 752\n",
      "    },\n",
      "    \"model_name\": \"gpt-3.5-turbo\"\n",
      "  },\n",
      "  \"run\": null\n",
      "}\n",
      "\u001B[36;1m\u001B[1;3m[chain/end]\u001B[0m \u001B[1m[1:RunTypeEnum.chain:RetrievalQA > 2:RunTypeEnum.chain:StuffDocumentsChain > 3:RunTypeEnum.chain:LLMChain] [1.40s] Exiting Chain run with output:\n",
      "\u001B[0m{\n",
      "  \"text\": \"The Cozy Comfort Pullover Set, Stripe has side pockets on the pull-on pants.\"\n",
      "}\n",
      "\u001B[36;1m\u001B[1;3m[chain/end]\u001B[0m \u001B[1m[1:RunTypeEnum.chain:RetrievalQA > 2:RunTypeEnum.chain:StuffDocumentsChain] [1.40s] Exiting Chain run with output:\n",
      "\u001B[0m{\n",
      "  \"output_text\": \"The Cozy Comfort Pullover Set, Stripe has side pockets on the pull-on pants.\"\n",
      "}\n",
      "\u001B[36;1m\u001B[1;3m[chain/end]\u001B[0m \u001B[1m[1:RunTypeEnum.chain:RetrievalQA] [2.43s] Exiting Chain run with output:\n",
      "\u001B[0m{\n",
      "  \"result\": \"The Cozy Comfort Pullover Set, Stripe has side pockets on the pull-on pants.\"\n",
      "}\n",
      "\u001B[32;1m\u001B[1;3m[chain/start]\u001B[0m \u001B[1m[1:RunTypeEnum.chain:RetrievalQA] Entering Chain run with input:\n",
      "\u001B[0m{\n",
      "  \"query\": \"What collection is the Ultra-Lofty         850 Stretch Down Hooded Jacket from?\",\n",
      "  \"answer\": \"The DownTek collection\"\n",
      "}\n",
      "\u001B[32;1m\u001B[1;3m[chain/start]\u001B[0m \u001B[1m[1:RunTypeEnum.chain:RetrievalQA > 2:RunTypeEnum.chain:StuffDocumentsChain] Entering Chain run with input:\n",
      "\u001B[0m[inputs]\n",
      "\u001B[32;1m\u001B[1;3m[chain/start]\u001B[0m \u001B[1m[1:RunTypeEnum.chain:RetrievalQA > 2:RunTypeEnum.chain:StuffDocumentsChain > 3:RunTypeEnum.chain:LLMChain] Entering Chain run with input:\n",
      "\u001B[0m{\n",
      "  \"question\": \"What collection is the Ultra-Lofty         850 Stretch Down Hooded Jacket from?\",\n",
      "  \"context\": \": 11\\nname: Ultra-Lofty 850 Stretch Down Hooded Jacket\\ndescription: This technical stretch down jacket from our DownTek collection is sure to keep you warm and comfortable with its full-stretch construction providing exceptional range of motion. With a slightly fitted style that falls at the hip and best with a midweight layer, this jacket is suitable for light activity up to 20° and moderate activity up to -30°. The soft and durable 100% polyester shell offers complete windproof protection and is insulated with warm, lofty goose down. Other features include welded baffles for a no-stitch construction and excellent stretch, an adjustable hood, an interior media port and mesh stash pocket and a hem drawcord. Machine wash and dry. Imported.<<<<>>>>>: 364\\nname: Ultra-Loft 850 Big Baffle Hooded Jacket\\ndescription: Our Ultralight 850 Down Jacket is designed with bigger baffles to provide you with unparalleled comfort and style. It's suitable for light activity up to 15° and moderate activity to -35°. Its slightly fitted cut falls below the hips and best with midweight layer, making sure you stay warm and cozy. The shell is made from Pertex Y-shaped yarn technology, a tightly interlocked weave that resists moisture and keeps down feathers inside. It's filled with premium 850-fill-power goose down, one of the highest on the market, and treated with DownTek for water repellency. It's also responsibly sourced down. Plus, it features adjustable hood, two zippered hand pockets, one zippered chest pocket, low-profile inner cuff construction and a hem drawcord for additional coverage and wind protection. Machine wash and dry for easy care. Imported.<<<<>>>>>: 244\\nname: UltraLoft 850 Down Jacket\\ndescription: Our revolutionary 850 jacket is the perfect choice for all your outdoor adventures. Combining the latest outerwear technology, the jacket features innovative DownTek fill, 850-fill-power, and a Pertex Quantum nylon shell for unbeatable performance. Light activity is suitable up to 25° and moderate activity up to -25°. With a center back length of 29½\\\" (Tall 31\\\") and a slightly fitted design that falls at the hip, this jacket is made to move. It's crafted with premium 850 down for more warmth without the weight and treated with revolutionary DownTek that allows it to resist moisture and dry faster. The game-changing Pertex Quantum nylon shell is tightly woven to resist the elements. The jacket also features elastic cuffs, an internal stowaway pocket, external zip handwarmer pockets, media storage with headphone ports, and machine-washable fabric. Questions? Contact us for more information.<<<<>>>>>: 241\\nname: Women's Ultra-Loft Down Sweater Hooded Jacket\\ndescription: Our revolutionary 850 jacket is designed with the best outerwear technology to ensure unbeatable performance. With premium 850 down for more warmth for its weight and DownTek treatment for water resistance, this jacket is light, lofty and warm. The tightly woven Pertex Quantum nylon shell is wind and weather-resistant for added protection. Comfort ratings for light activity is up to 30° and moderate activity up to -20°. With a slightly fitted shape that falls at the hip and best with a midweight layer, this jacket will keep you warm in any condition. It is virtually weightless and packs away into its own pocket. Certified by the Responsible Down Standard, it is a jacket of its own class.\"\n",
      "}\n",
      "\u001B[32;1m\u001B[1;3m[llm/start]\u001B[0m \u001B[1m[1:RunTypeEnum.chain:RetrievalQA > 2:RunTypeEnum.chain:StuffDocumentsChain > 3:RunTypeEnum.chain:LLMChain > 4:RunTypeEnum.llm:ChatOpenAI] Entering LLM run with input:\n",
      "\u001B[0m{\n",
      "  \"prompts\": [\n",
      "    \"System: Use the following pieces of context to answer the users question. \\nIf you don't know the answer, just say that you don't know, don't try to make up an answer.\\n----------------\\n: 11\\nname: Ultra-Lofty 850 Stretch Down Hooded Jacket\\ndescription: This technical stretch down jacket from our DownTek collection is sure to keep you warm and comfortable with its full-stretch construction providing exceptional range of motion. With a slightly fitted style that falls at the hip and best with a midweight layer, this jacket is suitable for light activity up to 20° and moderate activity up to -30°. The soft and durable 100% polyester shell offers complete windproof protection and is insulated with warm, lofty goose down. Other features include welded baffles for a no-stitch construction and excellent stretch, an adjustable hood, an interior media port and mesh stash pocket and a hem drawcord. Machine wash and dry. Imported.<<<<>>>>>: 364\\nname: Ultra-Loft 850 Big Baffle Hooded Jacket\\ndescription: Our Ultralight 850 Down Jacket is designed with bigger baffles to provide you with unparalleled comfort and style. It's suitable for light activity up to 15° and moderate activity to -35°. Its slightly fitted cut falls below the hips and best with midweight layer, making sure you stay warm and cozy. The shell is made from Pertex Y-shaped yarn technology, a tightly interlocked weave that resists moisture and keeps down feathers inside. It's filled with premium 850-fill-power goose down, one of the highest on the market, and treated with DownTek for water repellency. It's also responsibly sourced down. Plus, it features adjustable hood, two zippered hand pockets, one zippered chest pocket, low-profile inner cuff construction and a hem drawcord for additional coverage and wind protection. Machine wash and dry for easy care. Imported.<<<<>>>>>: 244\\nname: UltraLoft 850 Down Jacket\\ndescription: Our revolutionary 850 jacket is the perfect choice for all your outdoor adventures. Combining the latest outerwear technology, the jacket features innovative DownTek fill, 850-fill-power, and a Pertex Quantum nylon shell for unbeatable performance. Light activity is suitable up to 25° and moderate activity up to -25°. With a center back length of 29½\\\" (Tall 31\\\") and a slightly fitted design that falls at the hip, this jacket is made to move. It's crafted with premium 850 down for more warmth without the weight and treated with revolutionary DownTek that allows it to resist moisture and dry faster. The game-changing Pertex Quantum nylon shell is tightly woven to resist the elements. The jacket also features elastic cuffs, an internal stowaway pocket, external zip handwarmer pockets, media storage with headphone ports, and machine-washable fabric. Questions? Contact us for more information.<<<<>>>>>: 241\\nname: Women's Ultra-Loft Down Sweater Hooded Jacket\\ndescription: Our revolutionary 850 jacket is designed with the best outerwear technology to ensure unbeatable performance. With premium 850 down for more warmth for its weight and DownTek treatment for water resistance, this jacket is light, lofty and warm. The tightly woven Pertex Quantum nylon shell is wind and weather-resistant for added protection. Comfort ratings for light activity is up to 30° and moderate activity up to -20°. With a slightly fitted shape that falls at the hip and best with a midweight layer, this jacket will keep you warm in any condition. It is virtually weightless and packs away into its own pocket. Certified by the Responsible Down Standard, it is a jacket of its own class.\\nHuman: What collection is the Ultra-Lofty         850 Stretch Down Hooded Jacket from?\"\n",
      "  ]\n",
      "}\n",
      "\u001B[36;1m\u001B[1;3m[llm/end]\u001B[0m \u001B[1m[1:RunTypeEnum.chain:RetrievalQA > 2:RunTypeEnum.chain:StuffDocumentsChain > 3:RunTypeEnum.chain:LLMChain > 4:RunTypeEnum.llm:ChatOpenAI] [2.01s] Exiting LLM run with output:\n",
      "\u001B[0m{\n",
      "  \"generations\": [\n",
      "    [\n",
      "      {\n",
      "        \"text\": \"The Ultra-Lofty 850 Stretch Down Hooded Jacket is from the DownTek collection.\",\n",
      "        \"generation_info\": null,\n",
      "        \"message\": {\n",
      "          \"content\": \"The Ultra-Lofty 850 Stretch Down Hooded Jacket is from the DownTek collection.\",\n",
      "          \"additional_kwargs\": {},\n",
      "          \"example\": false\n",
      "        }\n",
      "      }\n",
      "    ]\n",
      "  ],\n",
      "  \"llm_output\": {\n",
      "    \"token_usage\": {\n",
      "      \"prompt_tokens\": 793,\n",
      "      \"completion_tokens\": 19,\n",
      "      \"total_tokens\": 812\n",
      "    },\n",
      "    \"model_name\": \"gpt-3.5-turbo\"\n",
      "  },\n",
      "  \"run\": null\n",
      "}\n",
      "\u001B[36;1m\u001B[1;3m[chain/end]\u001B[0m \u001B[1m[1:RunTypeEnum.chain:RetrievalQA > 2:RunTypeEnum.chain:StuffDocumentsChain > 3:RunTypeEnum.chain:LLMChain] [2.01s] Exiting Chain run with output:\n",
      "\u001B[0m{\n",
      "  \"text\": \"The Ultra-Lofty 850 Stretch Down Hooded Jacket is from the DownTek collection.\"\n",
      "}\n",
      "\u001B[36;1m\u001B[1;3m[chain/end]\u001B[0m \u001B[1m[1:RunTypeEnum.chain:RetrievalQA > 2:RunTypeEnum.chain:StuffDocumentsChain] [2.01s] Exiting Chain run with output:\n",
      "\u001B[0m{\n",
      "  \"output_text\": \"The Ultra-Lofty 850 Stretch Down Hooded Jacket is from the DownTek collection.\"\n",
      "}\n",
      "\u001B[36;1m\u001B[1;3m[chain/end]\u001B[0m \u001B[1m[1:RunTypeEnum.chain:RetrievalQA] [3.76s] Exiting Chain run with output:\n",
      "\u001B[0m{\n",
      "  \"result\": \"The Ultra-Lofty 850 Stretch Down Hooded Jacket is from the DownTek collection.\"\n",
      "}\n",
      "\u001B[32;1m\u001B[1;3m[chain/start]\u001B[0m \u001B[1m[1:RunTypeEnum.chain:RetrievalQA] Entering Chain run with input:\n",
      "\u001B[0m{\n",
      "  \"query\": \"What is the weight of each pair of Women's Campside Oxfords?\",\n",
      "  \"answer\": \"The approximate weight of each pair of Women's Campside Oxfords is 1 lb.1 oz.\"\n",
      "}\n",
      "\u001B[32;1m\u001B[1;3m[chain/start]\u001B[0m \u001B[1m[1:RunTypeEnum.chain:RetrievalQA > 2:RunTypeEnum.chain:StuffDocumentsChain] Entering Chain run with input:\n",
      "\u001B[0m[inputs]\n",
      "\u001B[32;1m\u001B[1;3m[chain/start]\u001B[0m \u001B[1m[1:RunTypeEnum.chain:RetrievalQA > 2:RunTypeEnum.chain:StuffDocumentsChain > 3:RunTypeEnum.chain:LLMChain] Entering Chain run with input:\n",
      "\u001B[0m{\n",
      "  \"question\": \"What is the weight of each pair of Women's Campside Oxfords?\",\n",
      "  \"context\": \": 0\\nname: Women's Campside Oxfords\\ndescription: This ultracomfortable lace-to-toe Oxford boasts a super-soft canvas, thick cushioning, and quality construction for a broken-in feel from the first time you put them on. \\n\\nSize & Fit: Order regular shoe size. For half sizes not offered, order up to next whole size. \\n\\nSpecs: Approx. weight: 1 lb.1 oz. per pair. \\n\\nConstruction: Soft canvas material for a broken-in feel and look. Comfortable EVA innersole with Cleansport NXT® antimicrobial odor control. Vintage hunt, fish and camping motif on innersole. Moderate arch contour of innersole. EVA foam midsole for cushioning and support. Chain-tread-inspired molded rubber outsole with modified chain-tread pattern. Imported. \\n\\nQuestions? Please contact us for any inquiries.<<<<>>>>>: 45\\nname: Women's Oboz Sawtooth Trekking Shoes\\ndescription: These Oboz Sawtooth hiking shoes are the perfect combination of an athletic profile and heavy-duty tread, making them suitable for a walk in the park or tackling the most challenging trails. The ventilated design offers breathability and comfort in warm weather.\\n\\nSize & Fit: Order your regular shoe size.\\n\\nSpecs: Approx. weight: 1 lb. 8 oz.\\n\\nConstruction:\\n- New upper and panel mesh are softer and more breathable. \\n- Nubuck leather upper with abrasion-resistant synthetic panels. \\n- 3D molded heel counter helps shoes maintain a snug, comfortable heel hold over time. \\n- Dual-density EVA midsole provides supportive balanced cushioning. \\n- Nylon shank offers added support between heel and forefoot. \\n- Classic Oboz Sawtooth sole sheds mud and provides exceptional traction. \\n- Sidewall lugs grip off-camber trails while shaving weight. \\n- Low-density EVA pods provide cushioning and comfort. \\n- Imported.<<<<>>>>>: 238\\nname: Men's Rockport Reflection Oxfords\\ndescription: These Rockport casual shoes offer classic Oxford design with a luxurious feel and long-lasting quality. \\n\\nSize & Fit \\nAvailable in two widths. Fit best with midweight socks.\\n\\nConstruction\\nSoft full-grain leather comfortably conforms to your foot for a personalized fit. Padded, leather-lined tongue and quarters prevent chafing from exposed seams. Padded collar for ankle protection. Durable dual-density polyurethane outsole for sure-footed traction. Imported. \\n\\nQuestions? Please contact our customer service team for more information.<<<<>>>>>: 654\\nname: Women's Oboz Sawtooth Trekking Shoes\\ndescription: With their athletic profile and heavy-duty tread, these Oboz Sawtooth hiking shoes are a great choice for everything from a walk in the park to tackling the most challenging trails. Ventilated design is perfect for warm weather.\\n\\nSize & Fit\\nOrder your regular shoe size.\\n\\nSpecs\\nApprox. weight: 1 lb. 8 oz.\\n\\nConstruction\\nNew upper and panel mesh are softer and more breathable.\\nNubuck leather upper with abrasion-resistant synthetic panels.\\n3D molded heel counter helps shoes maintain a snug, comfortable heel hold over time.\\nDual-density EVA midsole provides supportive balanced cushioning.\\nNylon shank offers added support between heel and forefoot.\\nClassic Oboz Sawtooth sole sheds mud and provides exceptional traction.\\nSidewall lugs grip off-camber trails while shaving weight.\\nLow-density EVA pods provide cushioning and comfort.\\nImported.\"\n",
      "}\n",
      "\u001B[32;1m\u001B[1;3m[llm/start]\u001B[0m \u001B[1m[1:RunTypeEnum.chain:RetrievalQA > 2:RunTypeEnum.chain:StuffDocumentsChain > 3:RunTypeEnum.chain:LLMChain > 4:RunTypeEnum.llm:ChatOpenAI] Entering LLM run with input:\n",
      "\u001B[0m{\n",
      "  \"prompts\": [\n",
      "    \"System: Use the following pieces of context to answer the users question. \\nIf you don't know the answer, just say that you don't know, don't try to make up an answer.\\n----------------\\n: 0\\nname: Women's Campside Oxfords\\ndescription: This ultracomfortable lace-to-toe Oxford boasts a super-soft canvas, thick cushioning, and quality construction for a broken-in feel from the first time you put them on. \\n\\nSize & Fit: Order regular shoe size. For half sizes not offered, order up to next whole size. \\n\\nSpecs: Approx. weight: 1 lb.1 oz. per pair. \\n\\nConstruction: Soft canvas material for a broken-in feel and look. Comfortable EVA innersole with Cleansport NXT® antimicrobial odor control. Vintage hunt, fish and camping motif on innersole. Moderate arch contour of innersole. EVA foam midsole for cushioning and support. Chain-tread-inspired molded rubber outsole with modified chain-tread pattern. Imported. \\n\\nQuestions? Please contact us for any inquiries.<<<<>>>>>: 45\\nname: Women's Oboz Sawtooth Trekking Shoes\\ndescription: These Oboz Sawtooth hiking shoes are the perfect combination of an athletic profile and heavy-duty tread, making them suitable for a walk in the park or tackling the most challenging trails. The ventilated design offers breathability and comfort in warm weather.\\n\\nSize & Fit: Order your regular shoe size.\\n\\nSpecs: Approx. weight: 1 lb. 8 oz.\\n\\nConstruction:\\n- New upper and panel mesh are softer and more breathable. \\n- Nubuck leather upper with abrasion-resistant synthetic panels. \\n- 3D molded heel counter helps shoes maintain a snug, comfortable heel hold over time. \\n- Dual-density EVA midsole provides supportive balanced cushioning. \\n- Nylon shank offers added support between heel and forefoot. \\n- Classic Oboz Sawtooth sole sheds mud and provides exceptional traction. \\n- Sidewall lugs grip off-camber trails while shaving weight. \\n- Low-density EVA pods provide cushioning and comfort. \\n- Imported.<<<<>>>>>: 238\\nname: Men's Rockport Reflection Oxfords\\ndescription: These Rockport casual shoes offer classic Oxford design with a luxurious feel and long-lasting quality. \\n\\nSize & Fit \\nAvailable in two widths. Fit best with midweight socks.\\n\\nConstruction\\nSoft full-grain leather comfortably conforms to your foot for a personalized fit. Padded, leather-lined tongue and quarters prevent chafing from exposed seams. Padded collar for ankle protection. Durable dual-density polyurethane outsole for sure-footed traction. Imported. \\n\\nQuestions? Please contact our customer service team for more information.<<<<>>>>>: 654\\nname: Women's Oboz Sawtooth Trekking Shoes\\ndescription: With their athletic profile and heavy-duty tread, these Oboz Sawtooth hiking shoes are a great choice for everything from a walk in the park to tackling the most challenging trails. Ventilated design is perfect for warm weather.\\n\\nSize & Fit\\nOrder your regular shoe size.\\n\\nSpecs\\nApprox. weight: 1 lb. 8 oz.\\n\\nConstruction\\nNew upper and panel mesh are softer and more breathable.\\nNubuck leather upper with abrasion-resistant synthetic panels.\\n3D molded heel counter helps shoes maintain a snug, comfortable heel hold over time.\\nDual-density EVA midsole provides supportive balanced cushioning.\\nNylon shank offers added support between heel and forefoot.\\nClassic Oboz Sawtooth sole sheds mud and provides exceptional traction.\\nSidewall lugs grip off-camber trails while shaving weight.\\nLow-density EVA pods provide cushioning and comfort.\\nImported.\\nHuman: What is the weight of each pair of Women's Campside Oxfords?\"\n",
      "  ]\n",
      "}\n",
      "\u001B[36;1m\u001B[1;3m[llm/end]\u001B[0m \u001B[1m[1:RunTypeEnum.chain:RetrievalQA > 2:RunTypeEnum.chain:StuffDocumentsChain > 3:RunTypeEnum.chain:LLMChain > 4:RunTypeEnum.llm:ChatOpenAI] [1.55s] Exiting LLM run with output:\n",
      "\u001B[0m{\n",
      "  \"generations\": [\n",
      "    [\n",
      "      {\n",
      "        \"text\": \"The weight of each pair of Women's Campside Oxfords is approximately 1 lb. 1 oz.\",\n",
      "        \"generation_info\": null,\n",
      "        \"message\": {\n",
      "          \"content\": \"The weight of each pair of Women's Campside Oxfords is approximately 1 lb. 1 oz.\",\n",
      "          \"additional_kwargs\": {},\n",
      "          \"example\": false\n",
      "        }\n",
      "      }\n",
      "    ]\n",
      "  ],\n",
      "  \"llm_output\": {\n",
      "    \"token_usage\": {\n",
      "      \"prompt_tokens\": 804,\n",
      "      \"completion_tokens\": 23,\n",
      "      \"total_tokens\": 827\n",
      "    },\n",
      "    \"model_name\": \"gpt-3.5-turbo\"\n",
      "  },\n",
      "  \"run\": null\n",
      "}\n",
      "\u001B[36;1m\u001B[1;3m[chain/end]\u001B[0m \u001B[1m[1:RunTypeEnum.chain:RetrievalQA > 2:RunTypeEnum.chain:StuffDocumentsChain > 3:RunTypeEnum.chain:LLMChain] [1.55s] Exiting Chain run with output:\n",
      "\u001B[0m{\n",
      "  \"text\": \"The weight of each pair of Women's Campside Oxfords is approximately 1 lb. 1 oz.\"\n",
      "}\n",
      "\u001B[36;1m\u001B[1;3m[chain/end]\u001B[0m \u001B[1m[1:RunTypeEnum.chain:RetrievalQA > 2:RunTypeEnum.chain:StuffDocumentsChain] [1.55s] Exiting Chain run with output:\n",
      "\u001B[0m{\n",
      "  \"output_text\": \"The weight of each pair of Women's Campside Oxfords is approximately 1 lb. 1 oz.\"\n",
      "}\n",
      "\u001B[36;1m\u001B[1;3m[chain/end]\u001B[0m \u001B[1m[1:RunTypeEnum.chain:RetrievalQA] [1.99s] Exiting Chain run with output:\n",
      "\u001B[0m{\n",
      "  \"result\": \"The weight of each pair of Women's Campside Oxfords is approximately 1 lb. 1 oz.\"\n",
      "}\n",
      "\u001B[32;1m\u001B[1;3m[chain/start]\u001B[0m \u001B[1m[1:RunTypeEnum.chain:RetrievalQA] Entering Chain run with input:\n",
      "\u001B[0m{\n",
      "  \"query\": \"What are the dimensions of the small and medium Recycled Waterhog dog mats?\",\n",
      "  \"answer\": \"The small Recycled Waterhog dog mat has dimensions of 18\\\" x 28\\\" while the medium one has dimensions of 22.5\\\" x 34.5\\\".\"\n",
      "}\n",
      "\u001B[32;1m\u001B[1;3m[chain/start]\u001B[0m \u001B[1m[1:RunTypeEnum.chain:RetrievalQA > 2:RunTypeEnum.chain:StuffDocumentsChain] Entering Chain run with input:\n",
      "\u001B[0m[inputs]\n",
      "\u001B[32;1m\u001B[1;3m[chain/start]\u001B[0m \u001B[1m[1:RunTypeEnum.chain:RetrievalQA > 2:RunTypeEnum.chain:StuffDocumentsChain > 3:RunTypeEnum.chain:LLMChain] Entering Chain run with input:\n",
      "\u001B[0m{\n",
      "  \"question\": \"What are the dimensions of the small and medium Recycled Waterhog dog mats?\",\n",
      "  \"context\": \": 1\\nname: Recycled Waterhog Dog Mat, Chevron Weave\\ndescription: Protect your floors from spills and splashing with our ultradurable recycled Waterhog dog mat made right here in the USA. \\n\\nSpecs\\nSmall - Dimensions: 18\\\" x 28\\\". \\nMedium - Dimensions: 22.5\\\" x 34.5\\\".\\n\\nWhy We Love It\\nMother nature, wet shoes and muddy paws have met their match with our Recycled Waterhog mats. Ruggedly constructed from recycled plastic materials, these ultratough mats help keep dirt and water off your floors and plastic out of landfills, trails and oceans. Now, that's a win-win for everyone.\\n\\nFabric & Care\\nVacuum or hose clean.\\n\\nConstruction\\n24 oz. polyester fabric made from 94% recycled materials.\\nRubber backing.\\n\\nAdditional Features\\nFeatures an -exclusive design.\\nFeatures thick and thin fibers for scraping dirt and absorbing water.\\nDries quickly and resists fading, rotting, mildew and shedding.\\nUse indoors or out.\\nMade in the USA.<<<<>>>>>: 27\\nname: Doggy Den Pad\\ndescription: Keep your dog comfortable on the go with our dog kennel pad that features a water-resistant polyester cover and a 2\\\" foam that insulates from the cold kennel floor. Specs: Intermediate: Dimensions: 17\\\" x 26\\\". Large: Dimensions: 18\\\" x 30\\\". Extra-Large: Dimensions: 22\\\" x 33\\\". Construction: Polyester cover and foam. Imported. If you have any questions, please contact us.<<<<>>>>>Regular: Weight: 2 lb. 10 oz.; Packed size: 18\\\" x 9\\\".\\n\\nLong: Weight: 2 lb. 13 oz.; Packed size: 18\\\" x 9\\\".\\n\\nFabric & Care<<<<>>>>>: 453\\nname: PupPal Striped Dog Bed\\ndescription: Our Sunbrella performance fabric dog beds are perfect for any place - from the park to the bedroom, from the porch to the backyard. The ultra-durable fabric resists water, stains, chlorine, fading, mold, and mildew, so you can feel confident that your pup's bed will look great inside and outside. \\n\\nSpecs\\nMedium\\nDimensions: 36\\\"L x 28\\\"W x 4\\\"H.\\nFor dogs: 25 to 60 lb.\\n\\nLarge\\nDimensions: 44\\\"L x 34\\\"W x 5\\\"H.\\nFor dog: 60 to 90 lb.\\n\\nFabric & Care\\nMachine wash, line dry.\\n\\nConstruction\\nCover is made from soft, fade-resistant Sunbrella fabric.\\nInsert is made from quick-drying densified polyester fill.\\n\\nAdditional Features\\nStriped Sunbrella cover is an  exclusive.\\nSpecially designed for indoor and outdoor use, ensuring more comfort and less worry.\\nCover coordinates with our Casco Bay Outdoor Cushions, sold separately.\\nCover fabric is made in USA; sewn and finished abroad.\\nInsert is made in USA.\\n\\nQuestions?\\nFeel\"\n",
      "}\n",
      "\u001B[32;1m\u001B[1;3m[llm/start]\u001B[0m \u001B[1m[1:RunTypeEnum.chain:RetrievalQA > 2:RunTypeEnum.chain:StuffDocumentsChain > 3:RunTypeEnum.chain:LLMChain > 4:RunTypeEnum.llm:ChatOpenAI] Entering LLM run with input:\n",
      "\u001B[0m{\n",
      "  \"prompts\": [\n",
      "    \"System: Use the following pieces of context to answer the users question. \\nIf you don't know the answer, just say that you don't know, don't try to make up an answer.\\n----------------\\n: 1\\nname: Recycled Waterhog Dog Mat, Chevron Weave\\ndescription: Protect your floors from spills and splashing with our ultradurable recycled Waterhog dog mat made right here in the USA. \\n\\nSpecs\\nSmall - Dimensions: 18\\\" x 28\\\". \\nMedium - Dimensions: 22.5\\\" x 34.5\\\".\\n\\nWhy We Love It\\nMother nature, wet shoes and muddy paws have met their match with our Recycled Waterhog mats. Ruggedly constructed from recycled plastic materials, these ultratough mats help keep dirt and water off your floors and plastic out of landfills, trails and oceans. Now, that's a win-win for everyone.\\n\\nFabric & Care\\nVacuum or hose clean.\\n\\nConstruction\\n24 oz. polyester fabric made from 94% recycled materials.\\nRubber backing.\\n\\nAdditional Features\\nFeatures an -exclusive design.\\nFeatures thick and thin fibers for scraping dirt and absorbing water.\\nDries quickly and resists fading, rotting, mildew and shedding.\\nUse indoors or out.\\nMade in the USA.<<<<>>>>>: 27\\nname: Doggy Den Pad\\ndescription: Keep your dog comfortable on the go with our dog kennel pad that features a water-resistant polyester cover and a 2\\\" foam that insulates from the cold kennel floor. Specs: Intermediate: Dimensions: 17\\\" x 26\\\". Large: Dimensions: 18\\\" x 30\\\". Extra-Large: Dimensions: 22\\\" x 33\\\". Construction: Polyester cover and foam. Imported. If you have any questions, please contact us.<<<<>>>>>Regular: Weight: 2 lb. 10 oz.; Packed size: 18\\\" x 9\\\".\\n\\nLong: Weight: 2 lb. 13 oz.; Packed size: 18\\\" x 9\\\".\\n\\nFabric & Care<<<<>>>>>: 453\\nname: PupPal Striped Dog Bed\\ndescription: Our Sunbrella performance fabric dog beds are perfect for any place - from the park to the bedroom, from the porch to the backyard. The ultra-durable fabric resists water, stains, chlorine, fading, mold, and mildew, so you can feel confident that your pup's bed will look great inside and outside. \\n\\nSpecs\\nMedium\\nDimensions: 36\\\"L x 28\\\"W x 4\\\"H.\\nFor dogs: 25 to 60 lb.\\n\\nLarge\\nDimensions: 44\\\"L x 34\\\"W x 5\\\"H.\\nFor dog: 60 to 90 lb.\\n\\nFabric & Care\\nMachine wash, line dry.\\n\\nConstruction\\nCover is made from soft, fade-resistant Sunbrella fabric.\\nInsert is made from quick-drying densified polyester fill.\\n\\nAdditional Features\\nStriped Sunbrella cover is an  exclusive.\\nSpecially designed for indoor and outdoor use, ensuring more comfort and less worry.\\nCover coordinates with our Casco Bay Outdoor Cushions, sold separately.\\nCover fabric is made in USA; sewn and finished abroad.\\nInsert is made in USA.\\n\\nQuestions?\\nFeel\\nHuman: What are the dimensions of the small and medium Recycled Waterhog dog mats?\"\n",
      "  ]\n",
      "}\n",
      "\u001B[36;1m\u001B[1;3m[llm/end]\u001B[0m \u001B[1m[1:RunTypeEnum.chain:RetrievalQA > 2:RunTypeEnum.chain:StuffDocumentsChain > 3:RunTypeEnum.chain:LLMChain > 4:RunTypeEnum.llm:ChatOpenAI] [1.96s] Exiting LLM run with output:\n",
      "\u001B[0m{\n",
      "  \"generations\": [\n",
      "    [\n",
      "      {\n",
      "        \"text\": \"The small Recycled Waterhog dog mat has dimensions of 18\\\" x 28\\\" and the medium size has dimensions of 22.5\\\" x 34.5\\\".\",\n",
      "        \"generation_info\": null,\n",
      "        \"message\": {\n",
      "          \"content\": \"The small Recycled Waterhog dog mat has dimensions of 18\\\" x 28\\\" and the medium size has dimensions of 22.5\\\" x 34.5\\\".\",\n",
      "          \"additional_kwargs\": {},\n",
      "          \"example\": false\n",
      "        }\n",
      "      }\n",
      "    ]\n",
      "  ],\n",
      "  \"llm_output\": {\n",
      "    \"token_usage\": {\n",
      "      \"prompt_tokens\": 691,\n",
      "      \"completion_tokens\": 36,\n",
      "      \"total_tokens\": 727\n",
      "    },\n",
      "    \"model_name\": \"gpt-3.5-turbo\"\n",
      "  },\n",
      "  \"run\": null\n",
      "}\n",
      "\u001B[36;1m\u001B[1;3m[chain/end]\u001B[0m \u001B[1m[1:RunTypeEnum.chain:RetrievalQA > 2:RunTypeEnum.chain:StuffDocumentsChain > 3:RunTypeEnum.chain:LLMChain] [1.97s] Exiting Chain run with output:\n",
      "\u001B[0m{\n",
      "  \"text\": \"The small Recycled Waterhog dog mat has dimensions of 18\\\" x 28\\\" and the medium size has dimensions of 22.5\\\" x 34.5\\\".\"\n",
      "}\n",
      "\u001B[36;1m\u001B[1;3m[chain/end]\u001B[0m \u001B[1m[1:RunTypeEnum.chain:RetrievalQA > 2:RunTypeEnum.chain:StuffDocumentsChain] [1.97s] Exiting Chain run with output:\n",
      "\u001B[0m{\n",
      "  \"output_text\": \"The small Recycled Waterhog dog mat has dimensions of 18\\\" x 28\\\" and the medium size has dimensions of 22.5\\\" x 34.5\\\".\"\n",
      "}\n",
      "\u001B[36;1m\u001B[1;3m[chain/end]\u001B[0m \u001B[1m[1:RunTypeEnum.chain:RetrievalQA] [2.39s] Exiting Chain run with output:\n",
      "\u001B[0m{\n",
      "  \"result\": \"The small Recycled Waterhog dog mat has dimensions of 18\\\" x 28\\\" and the medium size has dimensions of 22.5\\\" x 34.5\\\".\"\n",
      "}\n",
      "\u001B[32;1m\u001B[1;3m[chain/start]\u001B[0m \u001B[1m[1:RunTypeEnum.chain:RetrievalQA] Entering Chain run with input:\n",
      "\u001B[0m{\n",
      "  \"query\": \"What features does the Infant and Toddler Girls' Coastal Chill Swimsuit have?\",\n",
      "  \"answer\": \"The swimsuit has bright colors, ruffles, and exclusive whimsical prints. It is made of four-way-stretch and chlorine-resistant fabric that keeps its shape and resists snags. The UPF 50+ rated fabric provides the highest rated sun protection possible, blocking 98% of the sun's harmful rays. The swimsuit also has crossover no-slip straps and a fully lined bottom for a secure fit and maximum coverage. It is machine washable and should be line dried for best results. The swimsuit is imported.\"\n",
      "}\n",
      "\u001B[32;1m\u001B[1;3m[chain/start]\u001B[0m \u001B[1m[1:RunTypeEnum.chain:RetrievalQA > 2:RunTypeEnum.chain:StuffDocumentsChain] Entering Chain run with input:\n",
      "\u001B[0m[inputs]\n",
      "\u001B[32;1m\u001B[1;3m[chain/start]\u001B[0m \u001B[1m[1:RunTypeEnum.chain:RetrievalQA > 2:RunTypeEnum.chain:StuffDocumentsChain > 3:RunTypeEnum.chain:LLMChain] Entering Chain run with input:\n",
      "\u001B[0m{\n",
      "  \"question\": \"What features does the Infant and Toddler Girls' Coastal Chill Swimsuit have?\",\n",
      "  \"context\": \": 2\\nname: Infant and Toddler Girls' Coastal Chill Swimsuit, Two-Piece\\ndescription: She'll love the bright colors, ruffles and exclusive whimsical prints of this toddler's two-piece swimsuit! Our four-way-stretch and chlorine-resistant fabric keeps its shape and resists snags. The UPF 50+ rated fabric provides the highest rated sun protection possible, blocking 98% of the sun's harmful rays. The crossover no-slip straps and fully lined bottom ensure a secure fit and maximum coverage. Machine wash and line dry for best results. Imported.<<<<>>>>>: 769\\nname: Girls' Aquatic Adventure Swimsuit, One-piece, Long Sleeve, Colorblock\\ndescription: Whether it's relaxing on the beach or paddling on the water, this long-sleeved, UPF 50+ rated girls' swimsuit makes it easy to focus on the fun. Fabric & Care: 78% recycled nylon, 22% Xtra Life Lycra. Machine wash, line dry. Additional Features: UPF 50+ rated, the highest rated sun protection possible. Made from recycled content from fishing nets to help minimize our environmental impact. Long sleeves offers great coverage; no need to layer on a rash guard. Breathable and quick drying, with comfortable stretch for great freedom of movement. Front zipper for easy on-off, even when wet. Imported.<<<<>>>>>: 285\\nname: Beach Babe Reversible Swimsuit\\ndescription: Designed to stay put, this sporty swimsuit is ideal for girls who love to play hard in and around the water. Plus, the reversible design gives her two options in one. Fabric & Care: 86% nylon, 14% Lycra. UPF 50+ rated – the highest rated sun protection possible. Solid on one side, colorblock on the other. Back tie lets her find the perfect fit. Machine wash, line dry. Imported. Additional Features: Our high-performance fabric provides SPF 50+ sun protection, blocking 98% of the sun's harmful rays. This fabric is recommended by The Skin Cancer Foundation as an effective UV protectant.<<<<>>>>>: 759\\nname: Girls' Coastline Cutoffs, Stripe\\ndescription: From trail to treehouse to surf, these water-friendly girls' hybrid shorts make summer transitions and adventure easy and comfortable. Size & Fit Relaxed fit. Fabric & Care In a quick-drying, water-repellent 89% polyester, 11% spandex blend. Recommended by the Skin Cancer Foundation as an effective UV protectant. Machine wash and dry. Additional Features UPF 50+ rated – the highest rated sun protection possible. No-pinch adjustable waistband. Envelope-style back pocket. Imported.\\n\\nSun Protection That Won't Wear Off\\nOur high-performance fabric provides SPF 50+ sun protection, blocking 98% of the sun's harmful rays. This fabric is recommended by The Skin Cancer Foundation as an effective UV protectant.\"\n",
      "}\n",
      "\u001B[32;1m\u001B[1;3m[llm/start]\u001B[0m \u001B[1m[1:RunTypeEnum.chain:RetrievalQA > 2:RunTypeEnum.chain:StuffDocumentsChain > 3:RunTypeEnum.chain:LLMChain > 4:RunTypeEnum.llm:ChatOpenAI] Entering LLM run with input:\n",
      "\u001B[0m{\n",
      "  \"prompts\": [\n",
      "    \"System: Use the following pieces of context to answer the users question. \\nIf you don't know the answer, just say that you don't know, don't try to make up an answer.\\n----------------\\n: 2\\nname: Infant and Toddler Girls' Coastal Chill Swimsuit, Two-Piece\\ndescription: She'll love the bright colors, ruffles and exclusive whimsical prints of this toddler's two-piece swimsuit! Our four-way-stretch and chlorine-resistant fabric keeps its shape and resists snags. The UPF 50+ rated fabric provides the highest rated sun protection possible, blocking 98% of the sun's harmful rays. The crossover no-slip straps and fully lined bottom ensure a secure fit and maximum coverage. Machine wash and line dry for best results. Imported.<<<<>>>>>: 769\\nname: Girls' Aquatic Adventure Swimsuit, One-piece, Long Sleeve, Colorblock\\ndescription: Whether it's relaxing on the beach or paddling on the water, this long-sleeved, UPF 50+ rated girls' swimsuit makes it easy to focus on the fun. Fabric & Care: 78% recycled nylon, 22% Xtra Life Lycra. Machine wash, line dry. Additional Features: UPF 50+ rated, the highest rated sun protection possible. Made from recycled content from fishing nets to help minimize our environmental impact. Long sleeves offers great coverage; no need to layer on a rash guard. Breathable and quick drying, with comfortable stretch for great freedom of movement. Front zipper for easy on-off, even when wet. Imported.<<<<>>>>>: 285\\nname: Beach Babe Reversible Swimsuit\\ndescription: Designed to stay put, this sporty swimsuit is ideal for girls who love to play hard in and around the water. Plus, the reversible design gives her two options in one. Fabric & Care: 86% nylon, 14% Lycra. UPF 50+ rated – the highest rated sun protection possible. Solid on one side, colorblock on the other. Back tie lets her find the perfect fit. Machine wash, line dry. Imported. Additional Features: Our high-performance fabric provides SPF 50+ sun protection, blocking 98% of the sun's harmful rays. This fabric is recommended by The Skin Cancer Foundation as an effective UV protectant.<<<<>>>>>: 759\\nname: Girls' Coastline Cutoffs, Stripe\\ndescription: From trail to treehouse to surf, these water-friendly girls' hybrid shorts make summer transitions and adventure easy and comfortable. Size & Fit Relaxed fit. Fabric & Care In a quick-drying, water-repellent 89% polyester, 11% spandex blend. Recommended by the Skin Cancer Foundation as an effective UV protectant. Machine wash and dry. Additional Features UPF 50+ rated – the highest rated sun protection possible. No-pinch adjustable waistband. Envelope-style back pocket. Imported.\\n\\nSun Protection That Won't Wear Off\\nOur high-performance fabric provides SPF 50+ sun protection, blocking 98% of the sun's harmful rays. This fabric is recommended by The Skin Cancer Foundation as an effective UV protectant.\\nHuman: What features does the Infant and Toddler Girls' Coastal Chill Swimsuit have?\"\n",
      "  ]\n",
      "}\n",
      "\u001B[36;1m\u001B[1;3m[llm/end]\u001B[0m \u001B[1m[1:RunTypeEnum.chain:RetrievalQA > 2:RunTypeEnum.chain:StuffDocumentsChain > 3:RunTypeEnum.chain:LLMChain > 4:RunTypeEnum.llm:ChatOpenAI] [4.50s] Exiting LLM run with output:\n",
      "\u001B[0m{\n",
      "  \"generations\": [\n",
      "    [\n",
      "      {\n",
      "        \"text\": \"The Infant and Toddler Girls' Coastal Chill Swimsuit is a two-piece swimsuit with bright colors, ruffles, and exclusive whimsical prints. It has four-way-stretch and chlorine-resistant fabric that keeps its shape and resists snags. The UPF 50+ rated fabric provides the highest rated sun protection possible, blocking 98% of the sun's harmful rays. The crossover no-slip straps and fully lined bottom ensure a secure fit and maximum coverage. It is machine washable and should be line dried for best results.\",\n",
      "        \"generation_info\": null,\n",
      "        \"message\": {\n",
      "          \"content\": \"The Infant and Toddler Girls' Coastal Chill Swimsuit is a two-piece swimsuit with bright colors, ruffles, and exclusive whimsical prints. It has four-way-stretch and chlorine-resistant fabric that keeps its shape and resists snags. The UPF 50+ rated fabric provides the highest rated sun protection possible, blocking 98% of the sun's harmful rays. The crossover no-slip straps and fully lined bottom ensure a secure fit and maximum coverage. It is machine washable and should be line dried for best results.\",\n",
      "          \"additional_kwargs\": {},\n",
      "          \"example\": false\n",
      "        }\n",
      "      }\n",
      "    ]\n",
      "  ],\n",
      "  \"llm_output\": {\n",
      "    \"token_usage\": {\n",
      "      \"prompt_tokens\": 685,\n",
      "      \"completion_tokens\": 110,\n",
      "      \"total_tokens\": 795\n",
      "    },\n",
      "    \"model_name\": \"gpt-3.5-turbo\"\n",
      "  },\n",
      "  \"run\": null\n",
      "}\n",
      "\u001B[36;1m\u001B[1;3m[chain/end]\u001B[0m \u001B[1m[1:RunTypeEnum.chain:RetrievalQA > 2:RunTypeEnum.chain:StuffDocumentsChain > 3:RunTypeEnum.chain:LLMChain] [4.50s] Exiting Chain run with output:\n",
      "\u001B[0m{\n",
      "  \"text\": \"The Infant and Toddler Girls' Coastal Chill Swimsuit is a two-piece swimsuit with bright colors, ruffles, and exclusive whimsical prints. It has four-way-stretch and chlorine-resistant fabric that keeps its shape and resists snags. The UPF 50+ rated fabric provides the highest rated sun protection possible, blocking 98% of the sun's harmful rays. The crossover no-slip straps and fully lined bottom ensure a secure fit and maximum coverage. It is machine washable and should be line dried for best results.\"\n",
      "}\n",
      "\u001B[36;1m\u001B[1;3m[chain/end]\u001B[0m \u001B[1m[1:RunTypeEnum.chain:RetrievalQA > 2:RunTypeEnum.chain:StuffDocumentsChain] [4.50s] Exiting Chain run with output:\n",
      "\u001B[0m{\n",
      "  \"output_text\": \"The Infant and Toddler Girls' Coastal Chill Swimsuit is a two-piece swimsuit with bright colors, ruffles, and exclusive whimsical prints. It has four-way-stretch and chlorine-resistant fabric that keeps its shape and resists snags. The UPF 50+ rated fabric provides the highest rated sun protection possible, blocking 98% of the sun's harmful rays. The crossover no-slip straps and fully lined bottom ensure a secure fit and maximum coverage. It is machine washable and should be line dried for best results.\"\n",
      "}\n",
      "\u001B[36;1m\u001B[1;3m[chain/end]\u001B[0m \u001B[1m[1:RunTypeEnum.chain:RetrievalQA] [7.89s] Exiting Chain run with output:\n",
      "\u001B[0m{\n",
      "  \"result\": \"The Infant and Toddler Girls' Coastal Chill Swimsuit is a two-piece swimsuit with bright colors, ruffles, and exclusive whimsical prints. It has four-way-stretch and chlorine-resistant fabric that keeps its shape and resists snags. The UPF 50+ rated fabric provides the highest rated sun protection possible, blocking 98% of the sun's harmful rays. The crossover no-slip straps and fully lined bottom ensure a secure fit and maximum coverage. It is machine washable and should be line dried for best results.\"\n",
      "}\n",
      "\u001B[32;1m\u001B[1;3m[chain/start]\u001B[0m \u001B[1m[1:RunTypeEnum.chain:RetrievalQA] Entering Chain run with input:\n",
      "\u001B[0m{\n",
      "  \"query\": \"What is the fabric composition of the Refresh Swimwear, V-Neck Tankini Contrasts?\",\n",
      "  \"answer\": \"The body of the tankini top is made of 82% recycled nylon and 18% Lycra® spandex, while the lining is made of 90% recycled nylon and 10% Lycra® spandex.\"\n",
      "}\n",
      "\u001B[32;1m\u001B[1;3m[chain/start]\u001B[0m \u001B[1m[1:RunTypeEnum.chain:RetrievalQA > 2:RunTypeEnum.chain:StuffDocumentsChain] Entering Chain run with input:\n",
      "\u001B[0m[inputs]\n",
      "\u001B[32;1m\u001B[1;3m[chain/start]\u001B[0m \u001B[1m[1:RunTypeEnum.chain:RetrievalQA > 2:RunTypeEnum.chain:StuffDocumentsChain > 3:RunTypeEnum.chain:LLMChain] Entering Chain run with input:\n",
      "\u001B[0m{\n",
      "  \"question\": \"What is the fabric composition of the Refresh Swimwear, V-Neck Tankini Contrasts?\",\n",
      "  \"context\": \": 3\\nname: Refresh Swimwear, V-Neck Tankini Contrasts\\ndescription: Whether you're going for a swim or heading out on an SUP, this watersport-ready tankini top is designed to move with you and stay comfortable. All while looking great in an eye-catching colorblock style. \\n\\nSize & Fit\\nFitted: Sits close to the body.\\n\\nWhy We Love It\\nNot only does this swimtop feel good to wear, its fabric is good for the earth too. In recycled nylon, with Lycra® spandex for the perfect amount of stretch. \\n\\nFabric & Care\\nThe premium Italian-blend is breathable, quick drying and abrasion resistant. \\nBody in 82% recycled nylon with 18% Lycra® spandex. \\nLined in 90% recycled nylon with 10% Lycra® spandex. \\nUPF 50+ rated – the highest rated sun protection possible. \\nHandwash, line dry.\\n\\nAdditional Features\\nLightweight racerback straps are easy to get on and off, and won't get in your way. \\nFlattering V-neck silhouette. \\nImported.\\n\\nSun Protection That Won't Wear Off\\nOur high-performance fabric provides SPF<<<<>>>>>: 472\\nname: Renew Refresh Swimwear, V-Neck Tankini Print\\ndescription: This watersport tankini top is designed with an eco-friendly fabric and ready-for-anything design to make a splash. The colorful, eye-catching print adds a stylish look. With a fitted design that sits close to the body, this swim top is made from recycled nylon with Lycra® spandex for a comfortable fit that moves with you. Breathable, quick drying and abrasion resistant, the premium Italian-blend is UPF 50+ rated, the highest rated sun protection possible. The lightweight racerback straps make it easy to get on and off and the flattering V-neck silhouette adds a flattering touch. Recommended by The Skin Cancer Foundation, this fabric is an effective UV protectant. Handwash and line dry. Imported.<<<<>>>>>: 793\\nname: Mix-It-Up Tankini Print\\ndescription: This feminine squareneck bathing suit top features beautiful prints and a flattering design for a look that will pair well with all your favorite swim bottoms. Our Mix-and-Match swim collection is designed to make finding your perfect swimsuit easy, with so many incredible options to choose from. The fabric is made from 80% nylon and 20% Lycra® Xtra Life, providing long-lasting fit and resistance to sun, chlorine, and heat up to 10 times longer than unprotected fabrics. The lining is made from 84% nylon and 16% Lycra Elastane for UPF 50+ rated sun protection. Breathable, quick-drying Italian swim fabric holds its shape, and is chlorine-resistant for stay-true color. Adjustable straps and a feminine square neckline provide extra coverage. Handwash and line dry to keep it looking its best. This fabric is recommended by The Skin Cancer Foundation as an effective UV protectant.<<<<>>>>>: 214\\nname: Renewed Splendor V-Neck Bikini Top Print\\ndescription: This bikini top is perfect for all your favorite watersports. It's crafted with an eco-friendly fabric in a colorful, eye-catching print. The premium Italian-blend is breathable, quick drying and abrasion resistant, with lightweight racerback straps that won't get in your way. The fabric is made with 82% recycled nylon and 18% Lycra® spandex, and lined in 90% recycled nylon and 10% Lycra® spandex. Plus, it has an impressive UPF 50+ rating—the highest sun protection rating possible. Handwash and line dry for best results. With its sustainable fabric and flattering V-neck silhouette, this swim top is good for the earth and good for your summer adventures!\"\n",
      "}\n",
      "\u001B[32;1m\u001B[1;3m[llm/start]\u001B[0m \u001B[1m[1:RunTypeEnum.chain:RetrievalQA > 2:RunTypeEnum.chain:StuffDocumentsChain > 3:RunTypeEnum.chain:LLMChain > 4:RunTypeEnum.llm:ChatOpenAI] Entering LLM run with input:\n",
      "\u001B[0m{\n",
      "  \"prompts\": [\n",
      "    \"System: Use the following pieces of context to answer the users question. \\nIf you don't know the answer, just say that you don't know, don't try to make up an answer.\\n----------------\\n: 3\\nname: Refresh Swimwear, V-Neck Tankini Contrasts\\ndescription: Whether you're going for a swim or heading out on an SUP, this watersport-ready tankini top is designed to move with you and stay comfortable. All while looking great in an eye-catching colorblock style. \\n\\nSize & Fit\\nFitted: Sits close to the body.\\n\\nWhy We Love It\\nNot only does this swimtop feel good to wear, its fabric is good for the earth too. In recycled nylon, with Lycra® spandex for the perfect amount of stretch. \\n\\nFabric & Care\\nThe premium Italian-blend is breathable, quick drying and abrasion resistant. \\nBody in 82% recycled nylon with 18% Lycra® spandex. \\nLined in 90% recycled nylon with 10% Lycra® spandex. \\nUPF 50+ rated – the highest rated sun protection possible. \\nHandwash, line dry.\\n\\nAdditional Features\\nLightweight racerback straps are easy to get on and off, and won't get in your way. \\nFlattering V-neck silhouette. \\nImported.\\n\\nSun Protection That Won't Wear Off\\nOur high-performance fabric provides SPF<<<<>>>>>: 472\\nname: Renew Refresh Swimwear, V-Neck Tankini Print\\ndescription: This watersport tankini top is designed with an eco-friendly fabric and ready-for-anything design to make a splash. The colorful, eye-catching print adds a stylish look. With a fitted design that sits close to the body, this swim top is made from recycled nylon with Lycra® spandex for a comfortable fit that moves with you. Breathable, quick drying and abrasion resistant, the premium Italian-blend is UPF 50+ rated, the highest rated sun protection possible. The lightweight racerback straps make it easy to get on and off and the flattering V-neck silhouette adds a flattering touch. Recommended by The Skin Cancer Foundation, this fabric is an effective UV protectant. Handwash and line dry. Imported.<<<<>>>>>: 793\\nname: Mix-It-Up Tankini Print\\ndescription: This feminine squareneck bathing suit top features beautiful prints and a flattering design for a look that will pair well with all your favorite swim bottoms. Our Mix-and-Match swim collection is designed to make finding your perfect swimsuit easy, with so many incredible options to choose from. The fabric is made from 80% nylon and 20% Lycra® Xtra Life, providing long-lasting fit and resistance to sun, chlorine, and heat up to 10 times longer than unprotected fabrics. The lining is made from 84% nylon and 16% Lycra Elastane for UPF 50+ rated sun protection. Breathable, quick-drying Italian swim fabric holds its shape, and is chlorine-resistant for stay-true color. Adjustable straps and a feminine square neckline provide extra coverage. Handwash and line dry to keep it looking its best. This fabric is recommended by The Skin Cancer Foundation as an effective UV protectant.<<<<>>>>>: 214\\nname: Renewed Splendor V-Neck Bikini Top Print\\ndescription: This bikini top is perfect for all your favorite watersports. It's crafted with an eco-friendly fabric in a colorful, eye-catching print. The premium Italian-blend is breathable, quick drying and abrasion resistant, with lightweight racerback straps that won't get in your way. The fabric is made with 82% recycled nylon and 18% Lycra® spandex, and lined in 90% recycled nylon and 10% Lycra® spandex. Plus, it has an impressive UPF 50+ rating—the highest sun protection rating possible. Handwash and line dry for best results. With its sustainable fabric and flattering V-neck silhouette, this swim top is good for the earth and good for your summer adventures!\\nHuman: What is the fabric composition of the Refresh Swimwear, V-Neck Tankini Contrasts?\"\n",
      "  ]\n",
      "}\n",
      "\u001B[36;1m\u001B[1;3m[llm/end]\u001B[0m \u001B[1m[1:RunTypeEnum.chain:RetrievalQA > 2:RunTypeEnum.chain:StuffDocumentsChain > 3:RunTypeEnum.chain:LLMChain > 4:RunTypeEnum.llm:ChatOpenAI] [2.66s] Exiting LLM run with output:\n",
      "\u001B[0m{\n",
      "  \"generations\": [\n",
      "    [\n",
      "      {\n",
      "        \"text\": \"The Refresh Swimwear, V-Neck Tankini Contrasts is made of 82% recycled nylon with 18% Lycra® spandex for the body and 90% recycled nylon with 10% Lycra® spandex for the lining.\",\n",
      "        \"generation_info\": null,\n",
      "        \"message\": {\n",
      "          \"content\": \"The Refresh Swimwear, V-Neck Tankini Contrasts is made of 82% recycled nylon with 18% Lycra® spandex for the body and 90% recycled nylon with 10% Lycra® spandex for the lining.\",\n",
      "          \"additional_kwargs\": {},\n",
      "          \"example\": false\n",
      "        }\n",
      "      }\n",
      "    ]\n",
      "  ],\n",
      "  \"llm_output\": {\n",
      "    \"token_usage\": {\n",
      "      \"prompt_tokens\": 876,\n",
      "      \"completion_tokens\": 54,\n",
      "      \"total_tokens\": 930\n",
      "    },\n",
      "    \"model_name\": \"gpt-3.5-turbo\"\n",
      "  },\n",
      "  \"run\": null\n",
      "}\n",
      "\u001B[36;1m\u001B[1;3m[chain/end]\u001B[0m \u001B[1m[1:RunTypeEnum.chain:RetrievalQA > 2:RunTypeEnum.chain:StuffDocumentsChain > 3:RunTypeEnum.chain:LLMChain] [2.66s] Exiting Chain run with output:\n",
      "\u001B[0m{\n",
      "  \"text\": \"The Refresh Swimwear, V-Neck Tankini Contrasts is made of 82% recycled nylon with 18% Lycra® spandex for the body and 90% recycled nylon with 10% Lycra® spandex for the lining.\"\n",
      "}\n",
      "\u001B[36;1m\u001B[1;3m[chain/end]\u001B[0m \u001B[1m[1:RunTypeEnum.chain:RetrievalQA > 2:RunTypeEnum.chain:StuffDocumentsChain] [2.66s] Exiting Chain run with output:\n",
      "\u001B[0m{\n",
      "  \"output_text\": \"The Refresh Swimwear, V-Neck Tankini Contrasts is made of 82% recycled nylon with 18% Lycra® spandex for the body and 90% recycled nylon with 10% Lycra® spandex for the lining.\"\n",
      "}\n",
      "\u001B[36;1m\u001B[1;3m[chain/end]\u001B[0m \u001B[1m[1:RunTypeEnum.chain:RetrievalQA] [3.04s] Exiting Chain run with output:\n",
      "\u001B[0m{\n",
      "  \"result\": \"The Refresh Swimwear, V-Neck Tankini Contrasts is made of 82% recycled nylon with 18% Lycra® spandex for the body and 90% recycled nylon with 10% Lycra® spandex for the lining.\"\n",
      "}\n",
      "\u001B[32;1m\u001B[1;3m[chain/start]\u001B[0m \u001B[1m[1:RunTypeEnum.chain:RetrievalQA] Entering Chain run with input:\n",
      "\u001B[0m{\n",
      "  \"query\": \"What is the technology used in the EcoFlex 3L Storm Pants? \",\n",
      "  \"answer\": \"The EcoFlex 3L Storm Pants use TEK O2 technology, which offers the most breathability the company has ever tested.\"\n",
      "}\n",
      "\u001B[32;1m\u001B[1;3m[chain/start]\u001B[0m \u001B[1m[1:RunTypeEnum.chain:RetrievalQA > 2:RunTypeEnum.chain:StuffDocumentsChain] Entering Chain run with input:\n",
      "\u001B[0m[inputs]\n",
      "\u001B[32;1m\u001B[1;3m[chain/start]\u001B[0m \u001B[1m[1:RunTypeEnum.chain:RetrievalQA > 2:RunTypeEnum.chain:StuffDocumentsChain > 3:RunTypeEnum.chain:LLMChain] Entering Chain run with input:\n",
      "\u001B[0m{\n",
      "  \"question\": \"What is the technology used in the EcoFlex 3L Storm Pants? \",\n",
      "  \"context\": \": 4\\nname: EcoFlex 3L Storm Pants\\ndescription: Our new TEK O2 technology makes our four-season waterproof pants even more breathable. It's guaranteed to keep you dry and comfortable – whatever the activity and whatever the weather. Size & Fit: Slightly Fitted through hip and thigh. \\n\\nWhy We Love It: Our state-of-the-art TEK O2 technology offers the most breathability we've ever tested. Great as ski pants, they're ideal for a variety of outdoor activities year-round. Plus, they're loaded with features outdoor enthusiasts appreciate, including weather-blocking gaiters and handy side zips. Air In. Water Out. See how our air-permeable TEK O2 technology keeps you dry and comfortable. \\n\\nFabric & Care: 100% nylon, exclusive of trim. Machine wash and dry.<<<<>>>>>description: Designed for variable weather conditions, our high-performance hiking pants provide protection from the elements and reliable comfort on the trail with their lightweight, water-repellent construction. Size & Fit: Modern Fit sits lowest on the waist and is slightly fitted through hip and thigh with a straight-leg. Fabric & Care: Water-repellent construction seals out moisture without sacrificing breathability, while a hybrid of woven and knit fabrics offers maximum abrasion resistance and moisture-wicking comfort. The nylon blend allows for just-right stretch where you need it most. Additional Features: Zoned cordura fabric provides maximum abrasion resistance in seat and knees, while a rear vent offers optimal breathability. Two zippered front pockets and one zippered back pocket are perfect for securing essentials and the articulated knees allow for ease of movement. A leg hem cord provides personalized adjustment and all of this is imported.<<<<>>>>>Additional Features\\nThree-ply Supplex fabric is lightweight, breathable and brushed for softness. Durable water-repellent finish ensures they'll dry quickly. Updated elastic waistband has an internal adjustable drawstring for just the right fit. Side seam pocket and back welt pocket with velcro closure – both with mesh drainage panels. Our iconic Mt<<<<>>>>>: 645\\nname: Women's Waterproof Hiking Trousers\\ndescription: Our waterproof rain pants have been redesigned to be tougher and more durable, featuring a laminate interior for rugged protection and breathable comfort.\\n\\nSize & Fit\\n\\nSlightly Fitted. Best with lightweight layer.\\n\\nThe Technology\\nOur customer-favorite waterproof pants have been redesigned with a laminate construction - meaning the waterproof interior is bonded to the exterior shell, making them more durable, lightweight, and breathable.\\n\\nFabric & Care\\nTEK waterproof technology blocks the elements while maintaining breathable comfort. Made from 100% recycled nylon for minimal impact on the environment. Machine wash and dry.\\n\\nAdditional Features\\nAdjustable waist for a customized fit. Zippered back pocket. Zippered leg opening for easy on/off. Packs away for easy take-along. Imported.\"\n",
      "}\n",
      "\u001B[32;1m\u001B[1;3m[llm/start]\u001B[0m \u001B[1m[1:RunTypeEnum.chain:RetrievalQA > 2:RunTypeEnum.chain:StuffDocumentsChain > 3:RunTypeEnum.chain:LLMChain > 4:RunTypeEnum.llm:ChatOpenAI] Entering LLM run with input:\n",
      "\u001B[0m{\n",
      "  \"prompts\": [\n",
      "    \"System: Use the following pieces of context to answer the users question. \\nIf you don't know the answer, just say that you don't know, don't try to make up an answer.\\n----------------\\n: 4\\nname: EcoFlex 3L Storm Pants\\ndescription: Our new TEK O2 technology makes our four-season waterproof pants even more breathable. It's guaranteed to keep you dry and comfortable – whatever the activity and whatever the weather. Size & Fit: Slightly Fitted through hip and thigh. \\n\\nWhy We Love It: Our state-of-the-art TEK O2 technology offers the most breathability we've ever tested. Great as ski pants, they're ideal for a variety of outdoor activities year-round. Plus, they're loaded with features outdoor enthusiasts appreciate, including weather-blocking gaiters and handy side zips. Air In. Water Out. See how our air-permeable TEK O2 technology keeps you dry and comfortable. \\n\\nFabric & Care: 100% nylon, exclusive of trim. Machine wash and dry.<<<<>>>>>description: Designed for variable weather conditions, our high-performance hiking pants provide protection from the elements and reliable comfort on the trail with their lightweight, water-repellent construction. Size & Fit: Modern Fit sits lowest on the waist and is slightly fitted through hip and thigh with a straight-leg. Fabric & Care: Water-repellent construction seals out moisture without sacrificing breathability, while a hybrid of woven and knit fabrics offers maximum abrasion resistance and moisture-wicking comfort. The nylon blend allows for just-right stretch where you need it most. Additional Features: Zoned cordura fabric provides maximum abrasion resistance in seat and knees, while a rear vent offers optimal breathability. Two zippered front pockets and one zippered back pocket are perfect for securing essentials and the articulated knees allow for ease of movement. A leg hem cord provides personalized adjustment and all of this is imported.<<<<>>>>>Additional Features\\nThree-ply Supplex fabric is lightweight, breathable and brushed for softness. Durable water-repellent finish ensures they'll dry quickly. Updated elastic waistband has an internal adjustable drawstring for just the right fit. Side seam pocket and back welt pocket with velcro closure – both with mesh drainage panels. Our iconic Mt<<<<>>>>>: 645\\nname: Women's Waterproof Hiking Trousers\\ndescription: Our waterproof rain pants have been redesigned to be tougher and more durable, featuring a laminate interior for rugged protection and breathable comfort.\\n\\nSize & Fit\\n\\nSlightly Fitted. Best with lightweight layer.\\n\\nThe Technology\\nOur customer-favorite waterproof pants have been redesigned with a laminate construction - meaning the waterproof interior is bonded to the exterior shell, making them more durable, lightweight, and breathable.\\n\\nFabric & Care\\nTEK waterproof technology blocks the elements while maintaining breathable comfort. Made from 100% recycled nylon for minimal impact on the environment. Machine wash and dry.\\n\\nAdditional Features\\nAdjustable waist for a customized fit. Zippered back pocket. Zippered leg opening for easy on/off. Packs away for easy take-along. Imported.\\nHuman: What is the technology used in the EcoFlex 3L Storm Pants?\"\n",
      "  ]\n",
      "}\n",
      "\u001B[36;1m\u001B[1;3m[llm/end]\u001B[0m \u001B[1m[1:RunTypeEnum.chain:RetrievalQA > 2:RunTypeEnum.chain:StuffDocumentsChain > 3:RunTypeEnum.chain:LLMChain > 4:RunTypeEnum.llm:ChatOpenAI] [2.12s] Exiting LLM run with output:\n",
      "\u001B[0m{\n",
      "  \"generations\": [\n",
      "    [\n",
      "      {\n",
      "        \"text\": \"The EcoFlex 3L Storm Pants use TEK O2 technology, which is designed to make the pants more breathable and waterproof.\",\n",
      "        \"generation_info\": null,\n",
      "        \"message\": {\n",
      "          \"content\": \"The EcoFlex 3L Storm Pants use TEK O2 technology, which is designed to make the pants more breathable and waterproof.\",\n",
      "          \"additional_kwargs\": {},\n",
      "          \"example\": false\n",
      "        }\n",
      "      }\n",
      "    ]\n",
      "  ],\n",
      "  \"llm_output\": {\n",
      "    \"token_usage\": {\n",
      "      \"prompt_tokens\": 658,\n",
      "      \"completion_tokens\": 27,\n",
      "      \"total_tokens\": 685\n",
      "    },\n",
      "    \"model_name\": \"gpt-3.5-turbo\"\n",
      "  },\n",
      "  \"run\": null\n",
      "}\n",
      "\u001B[36;1m\u001B[1;3m[chain/end]\u001B[0m \u001B[1m[1:RunTypeEnum.chain:RetrievalQA > 2:RunTypeEnum.chain:StuffDocumentsChain > 3:RunTypeEnum.chain:LLMChain] [2.12s] Exiting Chain run with output:\n",
      "\u001B[0m{\n",
      "  \"text\": \"The EcoFlex 3L Storm Pants use TEK O2 technology, which is designed to make the pants more breathable and waterproof.\"\n",
      "}\n",
      "\u001B[36;1m\u001B[1;3m[chain/end]\u001B[0m \u001B[1m[1:RunTypeEnum.chain:RetrievalQA > 2:RunTypeEnum.chain:StuffDocumentsChain] [2.12s] Exiting Chain run with output:\n",
      "\u001B[0m{\n",
      "  \"output_text\": \"The EcoFlex 3L Storm Pants use TEK O2 technology, which is designed to make the pants more breathable and waterproof.\"\n",
      "}\n",
      "\u001B[36;1m\u001B[1;3m[chain/end]\u001B[0m \u001B[1m[1:RunTypeEnum.chain:RetrievalQA] [2.67s] Exiting Chain run with output:\n",
      "\u001B[0m{\n",
      "  \"result\": \"The EcoFlex 3L Storm Pants use TEK O2 technology, which is designed to make the pants more breathable and waterproof.\"\n",
      "}\n"
     ]
    }
   ],
   "source": [
    "predictions = qa.apply(examples)"
   ]
  },
  {
   "cell_type": "code",
   "execution_count": 43,
   "id": "6012a3e0",
   "metadata": {
    "height": 30,
    "ExecuteTime": {
     "end_time": "2023-06-27T20:33:21.847917Z",
     "start_time": "2023-06-27T20:33:21.842262Z"
    }
   },
   "outputs": [],
   "source": [
    "from langchain.evaluation.qa import QAEvalChain"
   ]
  },
  {
   "cell_type": "code",
   "execution_count": 44,
   "id": "724b1c0b",
   "metadata": {
    "height": 47,
    "ExecuteTime": {
     "end_time": "2023-06-27T20:33:25.974717Z",
     "start_time": "2023-06-27T20:33:25.963632Z"
    }
   },
   "outputs": [],
   "source": [
    "llm = ChatOpenAI(temperature=0)\n",
    "eval_chain = QAEvalChain.from_llm(llm)"
   ]
  },
  {
   "cell_type": "code",
   "execution_count": 45,
   "id": "8b46ae55",
   "metadata": {
    "height": 30,
    "ExecuteTime": {
     "end_time": "2023-06-27T20:34:11.446055Z",
     "start_time": "2023-06-27T20:33:30.687699Z"
    }
   },
   "outputs": [
    {
     "name": "stderr",
     "output_type": "stream",
     "text": [
      "Retrying langchain.chat_models.openai.ChatOpenAI.completion_with_retry.<locals>._completion_with_retry in 1.0 seconds as it raised ServiceUnavailableError: The server is overloaded or not ready yet..\n"
     ]
    }
   ],
   "source": [
    "graded_outputs = eval_chain.evaluate(examples, predictions)"
   ]
  },
  {
   "cell_type": "code",
   "execution_count": 46,
   "id": "3437cfbe",
   "metadata": {
    "height": 132,
    "ExecuteTime": {
     "end_time": "2023-06-27T20:34:11.450962Z",
     "start_time": "2023-06-27T20:34:11.447462Z"
    }
   },
   "outputs": [
    {
     "name": "stdout",
     "output_type": "stream",
     "text": [
      "Example 0:\n",
      "Question: Do the Cozy Comfort Pullover Set        have side pockets?\n",
      "Real Answer: Yes\n",
      "Predicted Answer: The Cozy Comfort Pullover Set, Stripe has side pockets on the pull-on pants.\n",
      "Predicted Grade: CORRECT\n",
      "\n",
      "Example 1:\n",
      "Question: What collection is the Ultra-Lofty         850 Stretch Down Hooded Jacket from?\n",
      "Real Answer: The DownTek collection\n",
      "Predicted Answer: The Ultra-Lofty 850 Stretch Down Hooded Jacket is from the DownTek collection.\n",
      "Predicted Grade: CORRECT\n",
      "\n",
      "Example 2:\n",
      "Question: What is the weight of each pair of Women's Campside Oxfords?\n",
      "Real Answer: The approximate weight of each pair of Women's Campside Oxfords is 1 lb.1 oz.\n",
      "Predicted Answer: The weight of each pair of Women's Campside Oxfords is approximately 1 lb. 1 oz.\n",
      "Predicted Grade: CORRECT\n",
      "\n",
      "Example 3:\n",
      "Question: What are the dimensions of the small and medium Recycled Waterhog dog mats?\n",
      "Real Answer: The small Recycled Waterhog dog mat has dimensions of 18\" x 28\" while the medium one has dimensions of 22.5\" x 34.5\".\n",
      "Predicted Answer: The small Recycled Waterhog dog mat has dimensions of 18\" x 28\" and the medium size has dimensions of 22.5\" x 34.5\".\n",
      "Predicted Grade: CORRECT\n",
      "\n",
      "Example 4:\n",
      "Question: What features does the Infant and Toddler Girls' Coastal Chill Swimsuit have?\n",
      "Real Answer: The swimsuit has bright colors, ruffles, and exclusive whimsical prints. It is made of four-way-stretch and chlorine-resistant fabric that keeps its shape and resists snags. The UPF 50+ rated fabric provides the highest rated sun protection possible, blocking 98% of the sun's harmful rays. The swimsuit also has crossover no-slip straps and a fully lined bottom for a secure fit and maximum coverage. It is machine washable and should be line dried for best results. The swimsuit is imported.\n",
      "Predicted Answer: The Infant and Toddler Girls' Coastal Chill Swimsuit is a two-piece swimsuit with bright colors, ruffles, and exclusive whimsical prints. It has four-way-stretch and chlorine-resistant fabric that keeps its shape and resists snags. The UPF 50+ rated fabric provides the highest rated sun protection possible, blocking 98% of the sun's harmful rays. The crossover no-slip straps and fully lined bottom ensure a secure fit and maximum coverage. It is machine washable and should be line dried for best results.\n",
      "Predicted Grade: CORRECT\n",
      "\n",
      "Example 5:\n",
      "Question: What is the fabric composition of the Refresh Swimwear, V-Neck Tankini Contrasts?\n",
      "Real Answer: The body of the tankini top is made of 82% recycled nylon and 18% Lycra® spandex, while the lining is made of 90% recycled nylon and 10% Lycra® spandex.\n",
      "Predicted Answer: The Refresh Swimwear, V-Neck Tankini Contrasts is made of 82% recycled nylon with 18% Lycra® spandex for the body and 90% recycled nylon with 10% Lycra® spandex for the lining.\n",
      "Predicted Grade: CORRECT\n",
      "\n",
      "Example 6:\n",
      "Question: What is the technology used in the EcoFlex 3L Storm Pants? \n",
      "Real Answer: The EcoFlex 3L Storm Pants use TEK O2 technology, which offers the most breathability the company has ever tested.\n",
      "Predicted Answer: The EcoFlex 3L Storm Pants use TEK O2 technology, which is designed to make the pants more breathable and waterproof.\n",
      "Predicted Grade: CORRECT\n",
      "\n"
     ]
    }
   ],
   "source": [
    "for i, eg in enumerate(examples):\n",
    "    print(f\"Example {i}:\")\n",
    "    print(\"Question: \" + predictions[i]['query'])\n",
    "    print(\"Real Answer: \" + predictions[i]['answer'])\n",
    "    print(\"Predicted Answer: \" + predictions[i]['result'])\n",
    "    print(\"Predicted Grade: \" + graded_outputs[i]['text'])\n",
    "    print()"
   ]
  },
  {
   "cell_type": "code",
   "execution_count": null,
   "id": "ce542854",
   "metadata": {
    "height": 30
   },
   "outputs": [],
   "source": []
  },
  {
   "cell_type": "code",
   "execution_count": null,
   "id": "be5b2aae",
   "metadata": {
    "height": 30
   },
   "outputs": [],
   "source": []
  },
  {
   "cell_type": "code",
   "execution_count": null,
   "id": "319798ba",
   "metadata": {
    "height": 30
   },
   "outputs": [],
   "source": []
  },
  {
   "cell_type": "code",
   "execution_count": null,
   "id": "89a504ad",
   "metadata": {
    "height": 30
   },
   "outputs": [],
   "source": []
  },
  {
   "cell_type": "code",
   "execution_count": null,
   "id": "dedd758b",
   "metadata": {
    "height": 30
   },
   "outputs": [],
   "source": []
  },
  {
   "cell_type": "code",
   "execution_count": null,
   "id": "36885b20",
   "metadata": {
    "height": 30
   },
   "outputs": [],
   "source": []
  },
  {
   "cell_type": "code",
   "execution_count": null,
   "id": "65c6cfb6",
   "metadata": {
    "height": 30
   },
   "outputs": [],
   "source": []
  },
  {
   "cell_type": "code",
   "execution_count": null,
   "id": "9ad3c7cc",
   "metadata": {
    "height": 30
   },
   "outputs": [],
   "source": []
  },
  {
   "cell_type": "code",
   "execution_count": null,
   "id": "26ac493e",
   "metadata": {
    "height": 30
   },
   "outputs": [],
   "source": []
  },
  {
   "cell_type": "code",
   "execution_count": null,
   "id": "f94cdacd",
   "metadata": {
    "height": 30
   },
   "outputs": [],
   "source": []
  }
 ],
 "metadata": {
  "kernelspec": {
   "display_name": "Python 3 (ipykernel)",
   "language": "python",
   "name": "python3"
  },
  "language_info": {
   "codemirror_mode": {
    "name": "ipython",
    "version": 3
   },
   "file_extension": ".py",
   "mimetype": "text/x-python",
   "name": "python",
   "nbconvert_exporter": "python",
   "pygments_lexer": "ipython3",
   "version": "3.9.16"
  }
 },
 "nbformat": 4,
 "nbformat_minor": 5
}
