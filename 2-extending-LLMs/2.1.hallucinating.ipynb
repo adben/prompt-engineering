{
 "cells": [
  {
   "cell_type": "code",
   "execution_count": 21,
   "metadata": {
    "collapsed": true,
    "ExecuteTime": {
     "end_time": "2023-07-04T04:49:50.417909963Z",
     "start_time": "2023-07-04T04:49:50.372859357Z"
    }
   },
   "outputs": [],
   "source": [
    "import os\n",
    "\n",
    "import openai\n",
    "from dotenv import load_dotenv, find_dotenv\n",
    "\n",
    "_ = load_dotenv(find_dotenv())\n",
    "\n",
    "openai.api_key = os.getenv('OPENAI_API_KEY')\n",
    "\n",
    "def get_completion(prompt, model=\"gpt-3.5-turbo\"):\n",
    "    messages = [{\"role\": \"user\", \"content\": prompt}]\n",
    "    response = openai.ChatCompletion.create(\n",
    "        model=model,\n",
    "        messages=messages,\n",
    "        temperature=0.0,  # this is the degree of randomness of the model's output\n",
    "    )\n",
    "    return response.choices[0].message[\"content\"]"
   ]
  },
  {
   "cell_type": "code",
   "execution_count": 22,
   "outputs": [
    {
     "name": "stdout",
     "output_type": "stream",
     "text": [
      "De naam \"pindakaas\" komt oorspronkelijk uit Nederland. Het woord \"pinda\" verwijst naar de pinda, een peulvrucht die ook wel aardnoot of grondnoot wordt genoemd. Het woord \"kaas\" werd toegevoegd omdat de consistentie van pindakaas enigszins lijkt op die van kaas. In tegenstelling tot wat de naam doet vermoeden, bevat pindakaas geen zuivelproducten.\n"
     ]
    }
   ],
   "source": [
    "prompt = f\"\"\"\n",
    "WAAR KOMT DE NAAM PINDAKAAS VANDAAN?\n",
    "\"\"\"\n",
    "response = get_completion(prompt)\n",
    "print(response)"
   ],
   "metadata": {
    "collapsed": false,
    "ExecuteTime": {
     "end_time": "2023-07-04T04:49:54.355996938Z",
     "start_time": "2023-07-04T04:49:50.418327772Z"
    }
   }
  },
  {
   "cell_type": "code",
   "execution_count": 23,
   "outputs": [],
   "source": [
    "# with open(\"2.1.result.md\",\"w\") as f:\n",
    "#     f.write(\"# Hallucinating responses\")\n",
    "#     f.write(\"\")\n",
    "#     f.write(prompt)\n",
    "#     f.write(\"\\n\")\n",
    "#     f.write(response)\n",
    "#     f.close()"
   ],
   "metadata": {
    "collapsed": false,
    "ExecuteTime": {
     "end_time": "2023-07-04T04:49:54.357767940Z",
     "start_time": "2023-07-04T04:49:54.356540983Z"
    }
   }
  }
 ],
 "metadata": {
  "kernelspec": {
   "display_name": "Python 3",
   "language": "python",
   "name": "python3"
  },
  "language_info": {
   "codemirror_mode": {
    "name": "ipython",
    "version": 2
   },
   "file_extension": ".py",
   "mimetype": "text/x-python",
   "name": "python",
   "nbconvert_exporter": "python",
   "pygments_lexer": "ipython2",
   "version": "2.7.6"
  }
 },
 "nbformat": 4,
 "nbformat_minor": 0
}
